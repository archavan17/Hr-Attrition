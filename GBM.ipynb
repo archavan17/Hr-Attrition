{
 "cells": [
  {
   "cell_type": "markdown",
   "id": "f2c7c5e6",
   "metadata": {},
   "source": [
    "# Gradient Boosting (GBM) in Python\n"
   ]
  },
  {
   "cell_type": "code",
   "execution_count": 1,
   "id": "1ac6120d",
   "metadata": {},
   "outputs": [],
   "source": [
    "# import libraries\n",
    "\n",
    "import pandas as pd\n",
    "import numpy as np\n",
    "import os\n",
    "\n",
    "\n",
    "# import sklearn libraries\n",
    "from sklearn.model_selection import train_test_split\n",
    "from sklearn.ensemble import GradientBoostingClassifier\n",
    "\n",
    "from sklearn.model_selection import train_test_split\n",
    "from sklearn.ensemble import GradientBoostingClassifier\n",
    "from sklearn.model_selection import GridSearchCV\n",
    "from sklearn.metrics import roc_auc_score\n",
    "\n",
    "import matplotlib.pylab as plt\n",
    "import warnings\n",
    "warnings.filterwarnings(\"ignore\")"
   ]
  },
  {
   "cell_type": "code",
   "execution_count": 2,
   "id": "5f41ae5b",
   "metadata": {},
   "outputs": [],
   "source": [
    "# insert data file: staff_16-17\n",
    "df=pd.read_excel('D:/My data/Aru/Project/staff utlz latest 16-17_masked.xlsx')"
   ]
  },
  {
   "cell_type": "code",
   "execution_count": 3,
   "id": "cafd738b",
   "metadata": {},
   "outputs": [
    {
     "name": "stdout",
     "output_type": "stream",
     "text": [
      "   Employee No Profit Center      Employee Name Employee Position  \\\n",
      "0            1        PC - 1   Rochette Jilleen           Level 2   \n",
      "1            2        PC - 2     Daryl Natalina           Level 2   \n",
      "2            3        PC - 2  Annnora Gabrielle           Level 2   \n",
      "3            4        PC - 3        Barbee Joey           Level 2   \n",
      "4            5        PC - 4   Idalina Lauraine           Level 1   \n",
      "\n",
      "  Employee Location          People Group Employee Category   Supervisor name  \\\n",
      "0        Location 3  Client Service Staff         Level 1/2  Idalina Lauraine   \n",
      "1        Location 7  Client Service Staff         Level 1/2  Idalina Lauraine   \n",
      "2        Location 7  Client Service Staff         Level 1/2  Idalina Lauraine   \n",
      "3        Location 1  Client Service Staff         Level 1/2  Idalina Lauraine   \n",
      "4        Location 3  Client Service Staff         Level 1/2     Abagail Druci   \n",
      "\n",
      "   Join Date Current Status Termination Date  Total Available Hours  \\\n",
      "0 2000-09-30         Active                -                 1802.0   \n",
      "1 1999-05-31         Active                -                 1882.0   \n",
      "2 2001-01-31         Active                -                 1898.5   \n",
      "3 2000-09-30         Active                -                 1851.0   \n",
      "4 1998-06-30         Active                -                 1205.0   \n",
      "\n",
      "   Work Hours  Leave Hours  Training Hours  BD Hours  NC Hours Utilization%  \n",
      "0       636.0        216.0            70.0    1192.0      56.0     0.352941  \n",
      "1       555.5        156.0            50.0     694.0     734.0     0.295165  \n",
      "2      1004.5        144.0            45.5     507.0     549.5     0.529102  \n",
      "3       273.0        208.0            29.0    1382.0     255.0     0.147488  \n",
      "4       149.0        104.0             3.0    1159.0     818.0     0.123651  \n"
     ]
    }
   ],
   "source": [
    "df.rename(columns={'Employee Number':'Employee No'},inplace=True)\n",
    "print(df.head())\n"
   ]
  },
  {
   "cell_type": "code",
   "execution_count": 4,
   "id": "acf403c0",
   "metadata": {},
   "outputs": [
    {
     "name": "stdout",
     "output_type": "stream",
     "text": [
      "NO.of Records :  789\n",
      "NO.of Columns :  18\n",
      "Index(['Employee No', 'Profit Center', 'Employee Name', 'Employee Position',\n",
      "       'Employee Location', 'People Group', 'Employee Category',\n",
      "       'Supervisor name', 'Join Date', 'Current Status', 'Termination Date',\n",
      "       'Total Available Hours', 'Work Hours', 'Leave Hours', 'Training Hours',\n",
      "       'BD Hours', 'NC Hours', 'Utilization%'],\n",
      "      dtype='object')\n"
     ]
    }
   ],
   "source": [
    "print(\"NO.of Records : \",df.shape[0])\n",
    "\n",
    "print(\"NO.of Columns : \",df.shape[1])\n",
    "\n",
    "print(df.columns)"
   ]
  },
  {
   "cell_type": "code",
   "execution_count": 5,
   "id": "64cfa9ab",
   "metadata": {},
   "outputs": [
    {
     "name": "stdout",
     "output_type": "stream",
     "text": [
      "<class 'pandas.core.frame.DataFrame'>\n",
      "RangeIndex: 789 entries, 0 to 788\n",
      "Data columns (total 18 columns):\n",
      " #   Column                 Non-Null Count  Dtype         \n",
      "---  ------                 --------------  -----         \n",
      " 0   Employee No            789 non-null    int64         \n",
      " 1   Profit Center          789 non-null    object        \n",
      " 2   Employee Name          789 non-null    object        \n",
      " 3   Employee Position      789 non-null    object        \n",
      " 4   Employee Location      789 non-null    object        \n",
      " 5   People Group           789 non-null    object        \n",
      " 6   Employee Category      789 non-null    object        \n",
      " 7   Supervisor name        789 non-null    object        \n",
      " 8   Join Date              789 non-null    datetime64[ns]\n",
      " 9   Current Status         789 non-null    object        \n",
      " 10  Termination Date       789 non-null    object        \n",
      " 11  Total Available Hours  789 non-null    float64       \n",
      " 12  Work Hours             789 non-null    float64       \n",
      " 13  Leave Hours            789 non-null    float64       \n",
      " 14  Training Hours         789 non-null    float64       \n",
      " 15  BD Hours               789 non-null    float64       \n",
      " 16  NC Hours               789 non-null    float64       \n",
      " 17  Utilization%           789 non-null    object        \n",
      "dtypes: datetime64[ns](1), float64(6), int64(1), object(10)\n",
      "memory usage: 111.1+ KB\n"
     ]
    }
   ],
   "source": [
    "df.info()"
   ]
  },
  {
   "cell_type": "code",
   "execution_count": 6,
   "id": "cde668d2",
   "metadata": {},
   "outputs": [
    {
     "data": {
      "text/html": [
       "<div>\n",
       "<style scoped>\n",
       "    .dataframe tbody tr th:only-of-type {\n",
       "        vertical-align: middle;\n",
       "    }\n",
       "\n",
       "    .dataframe tbody tr th {\n",
       "        vertical-align: top;\n",
       "    }\n",
       "\n",
       "    .dataframe thead th {\n",
       "        text-align: right;\n",
       "    }\n",
       "</style>\n",
       "<table border=\"1\" class=\"dataframe\">\n",
       "  <thead>\n",
       "    <tr style=\"text-align: right;\">\n",
       "      <th></th>\n",
       "      <th>Employee No</th>\n",
       "      <th>Total Available Hours</th>\n",
       "      <th>Work Hours</th>\n",
       "      <th>Leave Hours</th>\n",
       "      <th>Training Hours</th>\n",
       "      <th>BD Hours</th>\n",
       "      <th>NC Hours</th>\n",
       "    </tr>\n",
       "  </thead>\n",
       "  <tbody>\n",
       "    <tr>\n",
       "      <th>count</th>\n",
       "      <td>789.000000</td>\n",
       "      <td>789.00000</td>\n",
       "      <td>789.000000</td>\n",
       "      <td>789.000000</td>\n",
       "      <td>789.000000</td>\n",
       "      <td>789.000000</td>\n",
       "      <td>789.000000</td>\n",
       "    </tr>\n",
       "    <tr>\n",
       "      <th>mean</th>\n",
       "      <td>395.000000</td>\n",
       "      <td>1457.54071</td>\n",
       "      <td>1068.146185</td>\n",
       "      <td>181.152725</td>\n",
       "      <td>32.852826</td>\n",
       "      <td>77.335868</td>\n",
       "      <td>399.150355</td>\n",
       "    </tr>\n",
       "    <tr>\n",
       "      <th>std</th>\n",
       "      <td>227.908973</td>\n",
       "      <td>575.80742</td>\n",
       "      <td>637.485039</td>\n",
       "      <td>163.632969</td>\n",
       "      <td>33.670871</td>\n",
       "      <td>268.656612</td>\n",
       "      <td>379.930230</td>\n",
       "    </tr>\n",
       "    <tr>\n",
       "      <th>min</th>\n",
       "      <td>1.000000</td>\n",
       "      <td>0.00000</td>\n",
       "      <td>0.000000</td>\n",
       "      <td>0.000000</td>\n",
       "      <td>-11.000000</td>\n",
       "      <td>-24.000000</td>\n",
       "      <td>-28.500000</td>\n",
       "    </tr>\n",
       "    <tr>\n",
       "      <th>25%</th>\n",
       "      <td>198.000000</td>\n",
       "      <td>1216.00000</td>\n",
       "      <td>493.000000</td>\n",
       "      <td>104.000000</td>\n",
       "      <td>5.660000</td>\n",
       "      <td>0.000000</td>\n",
       "      <td>120.000000</td>\n",
       "    </tr>\n",
       "    <tr>\n",
       "      <th>50%</th>\n",
       "      <td>395.000000</td>\n",
       "      <td>1762.00000</td>\n",
       "      <td>1176.000000</td>\n",
       "      <td>168.000000</td>\n",
       "      <td>22.500000</td>\n",
       "      <td>0.000000</td>\n",
       "      <td>297.000000</td>\n",
       "    </tr>\n",
       "    <tr>\n",
       "      <th>75%</th>\n",
       "      <td>592.000000</td>\n",
       "      <td>1860.00000</td>\n",
       "      <td>1631.000000</td>\n",
       "      <td>227.000000</td>\n",
       "      <td>50.000000</td>\n",
       "      <td>0.000000</td>\n",
       "      <td>563.500000</td>\n",
       "    </tr>\n",
       "    <tr>\n",
       "      <th>max</th>\n",
       "      <td>789.000000</td>\n",
       "      <td>2088.00000</td>\n",
       "      <td>2413.000000</td>\n",
       "      <td>1576.000000</td>\n",
       "      <td>169.000000</td>\n",
       "      <td>1876.000000</td>\n",
       "      <td>2458.500000</td>\n",
       "    </tr>\n",
       "  </tbody>\n",
       "</table>\n",
       "</div>"
      ],
      "text/plain": [
       "       Employee No  Total Available Hours   Work Hours  Leave Hours  \\\n",
       "count   789.000000              789.00000   789.000000   789.000000   \n",
       "mean    395.000000             1457.54071  1068.146185   181.152725   \n",
       "std     227.908973              575.80742   637.485039   163.632969   \n",
       "min       1.000000                0.00000     0.000000     0.000000   \n",
       "25%     198.000000             1216.00000   493.000000   104.000000   \n",
       "50%     395.000000             1762.00000  1176.000000   168.000000   \n",
       "75%     592.000000             1860.00000  1631.000000   227.000000   \n",
       "max     789.000000             2088.00000  2413.000000  1576.000000   \n",
       "\n",
       "       Training Hours     BD Hours     NC Hours  \n",
       "count      789.000000   789.000000   789.000000  \n",
       "mean        32.852826    77.335868   399.150355  \n",
       "std         33.670871   268.656612   379.930230  \n",
       "min        -11.000000   -24.000000   -28.500000  \n",
       "25%          5.660000     0.000000   120.000000  \n",
       "50%         22.500000     0.000000   297.000000  \n",
       "75%         50.000000     0.000000   563.500000  \n",
       "max        169.000000  1876.000000  2458.500000  "
      ]
     },
     "execution_count": 6,
     "metadata": {},
     "output_type": "execute_result"
    }
   ],
   "source": [
    "df.describe()"
   ]
  },
  {
   "cell_type": "markdown",
   "id": "d12fa6ea",
   "metadata": {},
   "source": [
    "# Data Preparation "
   ]
  },
  {
   "cell_type": "markdown",
   "id": "bce2e77b",
   "metadata": {},
   "source": [
    "1. check missing values"
   ]
  },
  {
   "cell_type": "code",
   "execution_count": 7,
   "id": "9c1d7225",
   "metadata": {},
   "outputs": [
    {
     "data": {
      "text/plain": [
       "Employee No              0\n",
       "Profit Center            0\n",
       "Employee Name            0\n",
       "Employee Position        0\n",
       "Employee Location        0\n",
       "People Group             0\n",
       "Employee Category        0\n",
       "Supervisor name          0\n",
       "Join Date                0\n",
       "Current Status           0\n",
       "Termination Date         0\n",
       "Total Available Hours    0\n",
       "Work Hours               0\n",
       "Leave Hours              0\n",
       "Training Hours           0\n",
       "BD Hours                 0\n",
       "NC Hours                 0\n",
       "Utilization%             0\n",
       "dtype: int64"
      ]
     },
     "execution_count": 7,
     "metadata": {},
     "output_type": "execute_result"
    }
   ],
   "source": [
    "df.isnull().sum()\n",
    "# no null values in data set"
   ]
  },
  {
   "cell_type": "code",
   "execution_count": 8,
   "id": "b17ae9d8",
   "metadata": {},
   "outputs": [
    {
     "data": {
      "text/plain": [
       "People Group               2\n",
       "Current Status             4\n",
       "Employee Category          7\n",
       "Employee Location          8\n",
       "Profit Center             10\n",
       "Employee Position         12\n",
       "Termination Date          15\n",
       "Join Date                115\n",
       "Leave Hours              116\n",
       "Supervisor name          118\n",
       "BD Hours                 120\n",
       "Training Hours           223\n",
       "NC Hours                 549\n",
       "Total Available Hours    577\n",
       "Work Hours               602\n",
       "Utilization%             740\n",
       "Employee Name            789\n",
       "Employee No              789\n",
       "dtype: int64"
      ]
     },
     "execution_count": 8,
     "metadata": {},
     "output_type": "execute_result"
    }
   ],
   "source": [
    "#checking the categorical and continuous columns\n",
    "df.nunique().sort_values()"
   ]
  },
  {
   "cell_type": "markdown",
   "id": "0f000ac5",
   "metadata": {},
   "source": [
    "### Drop unnecessary columns"
   ]
  },
  {
   "cell_type": "code",
   "execution_count": 9,
   "id": "f7293684",
   "metadata": {},
   "outputs": [],
   "source": [
    "df=df.drop('Employee No',axis=1)"
   ]
  },
  {
   "cell_type": "code",
   "execution_count": 10,
   "id": "4d9f4f5b",
   "metadata": {},
   "outputs": [],
   "source": [
    "df=df.drop('Employee Name',axis=1)"
   ]
  },
  {
   "cell_type": "code",
   "execution_count": 11,
   "id": "76489f76",
   "metadata": {},
   "outputs": [],
   "source": [
    "df=df.drop('Employee Location',axis=1)"
   ]
  },
  {
   "cell_type": "code",
   "execution_count": 12,
   "id": "bb18df67",
   "metadata": {},
   "outputs": [],
   "source": [
    "df=df.drop('BD Hours',axis=1)"
   ]
  },
  {
   "cell_type": "code",
   "execution_count": 13,
   "id": "560e011a",
   "metadata": {},
   "outputs": [],
   "source": [
    "df=df.drop('Training Hours',axis=1)"
   ]
  },
  {
   "cell_type": "code",
   "execution_count": 14,
   "id": "1c2fa962",
   "metadata": {},
   "outputs": [],
   "source": [
    "df=df.drop('Work Hours',axis=1)"
   ]
  },
  {
   "cell_type": "code",
   "execution_count": 15,
   "id": "9b142f59",
   "metadata": {},
   "outputs": [],
   "source": [
    "df=df.drop('NC Hours',axis=1)"
   ]
  },
  {
   "cell_type": "code",
   "execution_count": 16,
   "id": "10043375",
   "metadata": {},
   "outputs": [],
   "source": [
    "df=df.drop('Utilization%',axis=1)"
   ]
  },
  {
   "cell_type": "code",
   "execution_count": 17,
   "id": "2a14a0ad",
   "metadata": {},
   "outputs": [],
   "source": [
    "df=df.drop('Leave Hours',axis=1)"
   ]
  },
  {
   "cell_type": "code",
   "execution_count": 18,
   "id": "06f7f2ad",
   "metadata": {},
   "outputs": [],
   "source": [
    "df=df.drop('Total Available Hours',axis=1)"
   ]
  },
  {
   "cell_type": "code",
   "execution_count": 19,
   "id": "c140167e",
   "metadata": {},
   "outputs": [],
   "source": [
    " df=df.drop('Supervisor name',axis=1) \n"
   ]
  },
  {
   "cell_type": "code",
   "execution_count": 20,
   "id": "00011c2b",
   "metadata": {},
   "outputs": [
    {
     "name": "stdout",
     "output_type": "stream",
     "text": [
      "Index(['Profit Center', 'Employee Position', 'People Group',\n",
      "       'Employee Category', 'Join Date', 'Current Status', 'Termination Date'],\n",
      "      dtype='object')\n"
     ]
    }
   ],
   "source": [
    "# check data file\n",
    "print(df.columns)"
   ]
  },
  {
   "cell_type": "markdown",
   "id": "8d177db2",
   "metadata": {},
   "source": [
    "convert categorical data into number format"
   ]
  },
  {
   "cell_type": "code",
   "execution_count": 21,
   "id": "f1d1cefc",
   "metadata": {},
   "outputs": [
    {
     "data": {
      "text/plain": [
       "0    648\n",
       "1    141\n",
       "Name: Current Status, dtype: int64"
      ]
     },
     "execution_count": 21,
     "metadata": {},
     "output_type": "execute_result"
    }
   ],
   "source": [
    "# current status\n",
    "# Active = 0\n",
    "# Resigned = 1\n",
    "# Secondment = 0\n",
    "#New Joiner = 0\n",
    "#Sabbatical = 0\n",
    "var_update = 'Current Status'\n",
    "df[var_update].value_counts()\n",
    "\n",
    "# Current Status\n",
    "df[var_update].replace({\"Active\":0, \"Resigned\":1, \"Secondment\":0, \"Sabbatical\":0, \"New Joiner\" : 0, \n",
    "                             }, inplace = True)\n",
    "\n",
    "df[var_update].value_counts()\n"
   ]
  },
  {
   "cell_type": "code",
   "execution_count": 22,
   "id": "e10d8871",
   "metadata": {},
   "outputs": [
    {
     "data": {
      "text/plain": [
       "0    781\n",
       "1      8\n",
       "Name: People Group, dtype: int64"
      ]
     },
     "execution_count": 22,
     "metadata": {},
     "output_type": "execute_result"
    }
   ],
   "source": [
    "## categorical values client service staff, support staff\n",
    "var_update = 'People Group'\n",
    "df[var_update].value_counts() # To check the unique categories of the variable\n",
    "df[var_update].replace({\"Client Service Staff\":0, \"Support Staff\":1}, inplace = True)\n",
    "df[var_update].value_counts()"
   ]
  },
  {
   "cell_type": "code",
   "execution_count": 23,
   "id": "d30cb6ea",
   "metadata": {},
   "outputs": [
    {
     "data": {
      "text/plain": [
       "Level 7     270\n",
       "Level 8     210\n",
       "Level 6     154\n",
       "Level 5      80\n",
       "Level 4      37\n",
       "Level 3      20\n",
       "Level 2       9\n",
       "Level A2      3\n",
       "Level A3      3\n",
       "Level 1       1\n",
       "Level 10      1\n",
       "Level A1      1\n",
       "Name: Employee Position, dtype: int64"
      ]
     },
     "execution_count": 23,
     "metadata": {},
     "output_type": "execute_result"
    }
   ],
   "source": [
    "var_update = 'Employee Position'\n",
    "df[var_update].value_counts() # To check the unique categories of the variable\n"
   ]
  },
  {
   "cell_type": "code",
   "execution_count": 24,
   "id": "f880f932",
   "metadata": {},
   "outputs": [
    {
     "data": {
      "text/plain": [
       "7     270\n",
       "8     210\n",
       "6     154\n",
       "5      80\n",
       "4      37\n",
       "3      20\n",
       "2       9\n",
       "12      3\n",
       "13      3\n",
       "1       1\n",
       "10      1\n",
       "11      1\n",
       "Name: Employee Position, dtype: int64"
      ]
     },
     "execution_count": 24,
     "metadata": {},
     "output_type": "execute_result"
    }
   ],
   "source": [
    "df[var_update].replace({\"Level 1\":1, \"Level 2\":2, \"Level 3\":3, \"Level 4\":4,\n",
    "                             \"Level 5\":5, \"Level 6\":6, \"Level 7\":7, \"Level 8\":8,\"Level 10\":10,\n",
    "                             \"Level A1\":11, \"Level A2\":12, \"Level A3\":13}, inplace = True)\n",
    "df[var_update].value_counts()"
   ]
  },
  {
   "cell_type": "code",
   "execution_count": 25,
   "id": "26edca04",
   "metadata": {},
   "outputs": [
    {
     "data": {
      "text/plain": [
       "Confirmed Staff                 553\n",
       "Serving Notice Period           158\n",
       "Staff on Probation               59\n",
       "Level 1/2                        10\n",
       "Secondee-Outward-Without Pay      4\n",
       "Awaiting Termination              4\n",
       "Secondee-Outward-With Pay         1\n",
       "Name: Employee Category, dtype: int64"
      ]
     },
     "execution_count": 25,
     "metadata": {},
     "output_type": "execute_result"
    }
   ],
   "source": [
    "var_update = 'Employee Category'\n",
    "df[var_update].value_counts() # To check the unique categories of the variable\n"
   ]
  },
  {
   "cell_type": "code",
   "execution_count": 26,
   "id": "691472e7",
   "metadata": {},
   "outputs": [
    {
     "data": {
      "text/plain": [
       "0    553\n",
       "1    158\n",
       "2     59\n",
       "4     10\n",
       "3      4\n",
       "5      4\n",
       "6      1\n",
       "Name: Employee Category, dtype: int64"
      ]
     },
     "execution_count": 26,
     "metadata": {},
     "output_type": "execute_result"
    }
   ],
   "source": [
    "df[var_update].replace({\"Confirmed Staff\":0,\"Serving Notice Period\":1, \"Staff on Probation\":2, \n",
    "                                     \"Secondee-Outward-Without Pay\":3,  \"Level 1/2\":4, \"Awaiting Termination\":5,\n",
    "                                        \"Secondee-Outward-With Pay\":6   }, inplace = True)\n",
    "df[var_update].value_counts()"
   ]
  },
  {
   "cell_type": "code",
   "execution_count": 27,
   "id": "5629e9a7",
   "metadata": {},
   "outputs": [
    {
     "data": {
      "text/plain": [
       "PC - 3     236\n",
       "PC - 2     203\n",
       "PC - 1     151\n",
       "PC - 5     102\n",
       "PC - 6      88\n",
       "PC - 7       5\n",
       "PC - 8       1\n",
       "PC - 10      1\n",
       "PC - 4       1\n",
       "PC - 9       1\n",
       "Name: Profit Center, dtype: int64"
      ]
     },
     "execution_count": 27,
     "metadata": {},
     "output_type": "execute_result"
    }
   ],
   "source": [
    "# profit center\n",
    "var_update = 'Profit Center'\n",
    "df[var_update].value_counts() # To check the unique categories of the variable"
   ]
  },
  {
   "cell_type": "code",
   "execution_count": 28,
   "id": "a9dec603",
   "metadata": {},
   "outputs": [
    {
     "data": {
      "text/plain": [
       "3     236\n",
       "2     203\n",
       "1     151\n",
       "5     102\n",
       "6      88\n",
       "7       5\n",
       "4       1\n",
       "8       1\n",
       "9       1\n",
       "10      1\n",
       "Name: Profit Center, dtype: int64"
      ]
     },
     "execution_count": 28,
     "metadata": {},
     "output_type": "execute_result"
    }
   ],
   "source": [
    "df[var_update].replace({\"PC - 1\":1,\"PC - 2\":2, \"PC - 3\":3, \n",
    "                                     \"PC - 4\":4,  \"PC - 5\":5, \"PC - 6\":6,\"PC - 7\":7,\"PC - 8\":8,\"PC - 9\":9,\n",
    "                                        \"PC - 10\":10   }, inplace = True)\n",
    "df[var_update].value_counts()"
   ]
  },
  {
   "cell_type": "code",
   "execution_count": 29,
   "id": "a153be1b",
   "metadata": {},
   "outputs": [
    {
     "name": "stdout",
     "output_type": "stream",
     "text": [
      "<class 'pandas.core.frame.DataFrame'>\n",
      "RangeIndex: 789 entries, 0 to 788\n",
      "Data columns (total 7 columns):\n",
      " #   Column             Non-Null Count  Dtype         \n",
      "---  ------             --------------  -----         \n",
      " 0   Profit Center      789 non-null    int64         \n",
      " 1   Employee Position  789 non-null    int64         \n",
      " 2   People Group       789 non-null    int64         \n",
      " 3   Employee Category  789 non-null    int64         \n",
      " 4   Join Date          789 non-null    datetime64[ns]\n",
      " 5   Current Status     789 non-null    int64         \n",
      " 6   Termination Date   789 non-null    object        \n",
      "dtypes: datetime64[ns](1), int64(5), object(1)\n",
      "memory usage: 43.3+ KB\n"
     ]
    }
   ],
   "source": [
    "df.info()"
   ]
  },
  {
   "cell_type": "code",
   "execution_count": 30,
   "id": "9ce0332c",
   "metadata": {},
   "outputs": [
    {
     "data": {
      "text/html": [
       "<div>\n",
       "<style scoped>\n",
       "    .dataframe tbody tr th:only-of-type {\n",
       "        vertical-align: middle;\n",
       "    }\n",
       "\n",
       "    .dataframe tbody tr th {\n",
       "        vertical-align: top;\n",
       "    }\n",
       "\n",
       "    .dataframe thead th {\n",
       "        text-align: right;\n",
       "    }\n",
       "</style>\n",
       "<table border=\"1\" class=\"dataframe\">\n",
       "  <thead>\n",
       "    <tr style=\"text-align: right;\">\n",
       "      <th></th>\n",
       "      <th>Profit Center</th>\n",
       "      <th>Employee Position</th>\n",
       "      <th>People Group</th>\n",
       "      <th>Employee Category</th>\n",
       "      <th>Join Date</th>\n",
       "      <th>Current Status</th>\n",
       "      <th>Termination Date</th>\n",
       "    </tr>\n",
       "  </thead>\n",
       "  <tbody>\n",
       "    <tr>\n",
       "      <th>0</th>\n",
       "      <td>1</td>\n",
       "      <td>2</td>\n",
       "      <td>0</td>\n",
       "      <td>4</td>\n",
       "      <td>2000-09-30</td>\n",
       "      <td>0</td>\n",
       "      <td>-</td>\n",
       "    </tr>\n",
       "    <tr>\n",
       "      <th>1</th>\n",
       "      <td>2</td>\n",
       "      <td>2</td>\n",
       "      <td>0</td>\n",
       "      <td>4</td>\n",
       "      <td>1999-05-31</td>\n",
       "      <td>0</td>\n",
       "      <td>-</td>\n",
       "    </tr>\n",
       "    <tr>\n",
       "      <th>2</th>\n",
       "      <td>2</td>\n",
       "      <td>2</td>\n",
       "      <td>0</td>\n",
       "      <td>4</td>\n",
       "      <td>2001-01-31</td>\n",
       "      <td>0</td>\n",
       "      <td>-</td>\n",
       "    </tr>\n",
       "    <tr>\n",
       "      <th>3</th>\n",
       "      <td>3</td>\n",
       "      <td>2</td>\n",
       "      <td>0</td>\n",
       "      <td>4</td>\n",
       "      <td>2000-09-30</td>\n",
       "      <td>0</td>\n",
       "      <td>-</td>\n",
       "    </tr>\n",
       "    <tr>\n",
       "      <th>4</th>\n",
       "      <td>4</td>\n",
       "      <td>1</td>\n",
       "      <td>0</td>\n",
       "      <td>4</td>\n",
       "      <td>1998-06-30</td>\n",
       "      <td>0</td>\n",
       "      <td>-</td>\n",
       "    </tr>\n",
       "  </tbody>\n",
       "</table>\n",
       "</div>"
      ],
      "text/plain": [
       "   Profit Center  Employee Position  People Group  Employee Category  \\\n",
       "0              1                  2             0                  4   \n",
       "1              2                  2             0                  4   \n",
       "2              2                  2             0                  4   \n",
       "3              3                  2             0                  4   \n",
       "4              4                  1             0                  4   \n",
       "\n",
       "   Join Date  Current Status Termination Date  \n",
       "0 2000-09-30               0                -  \n",
       "1 1999-05-31               0                -  \n",
       "2 2001-01-31               0                -  \n",
       "3 2000-09-30               0                -  \n",
       "4 1998-06-30               0                -  "
      ]
     },
     "execution_count": 30,
     "metadata": {},
     "output_type": "execute_result"
    }
   ],
   "source": [
    "df.describe()\n",
    "df.head()"
   ]
  },
  {
   "cell_type": "code",
   "execution_count": 31,
   "id": "4630aada",
   "metadata": {
    "scrolled": true
   },
   "outputs": [
    {
     "name": "stdout",
     "output_type": "stream",
     "text": [
      "Profit Center                 int64\n",
      "Employee Position             int64\n",
      "People Group                  int64\n",
      "Employee Category             int64\n",
      "Join Date            datetime64[ns]\n",
      "Current Status                int64\n",
      "Termination Date             object\n",
      "dtype: object\n"
     ]
    }
   ],
   "source": [
    "print(df.dtypes)"
   ]
  },
  {
   "cell_type": "markdown",
   "id": "1e780f7a",
   "metadata": {},
   "source": [
    "# Check for outliers"
   ]
  },
  {
   "cell_type": "code",
   "execution_count": 32,
   "id": "e8dab910",
   "metadata": {},
   "outputs": [
    {
     "data": {
      "image/png": "[encoded data removed]",
      "text/plain": [
       "<Figure size 1080x1080 with 4 Axes>"
      ]
     },
     "metadata": {
      "needs_background": "light"
     },
     "output_type": "display_data"
    }
   ],
   "source": [
    "import seaborn as sns\n",
    "\n",
    "int_cols=list(df.select_dtypes(['int64']).columns)\n",
    "\n",
    "\n",
    "plt.figure(figsize=(15,15))\n",
    "for j in range(1,len(int_cols)):\n",
    "    plt.subplot(3,4,j)\n",
    "    sns.boxplot(df[int_cols[j]])\n",
    "       "
   ]
  },
  {
   "cell_type": "markdown",
   "id": "22a47d59",
   "metadata": {},
   "source": [
    "#### Drop Columns"
   ]
  },
  {
   "cell_type": "code",
   "execution_count": 33,
   "id": "a1d78ce6",
   "metadata": {},
   "outputs": [],
   "source": [
    "df = df.drop([\"Join Date\"], axis =1)"
   ]
  },
  {
   "cell_type": "code",
   "execution_count": 34,
   "id": "39aaebaf",
   "metadata": {},
   "outputs": [],
   "source": [
    "df = df.drop([\"Termination Date\"], axis =1)"
   ]
  },
  {
   "cell_type": "markdown",
   "id": "3ed37eb1",
   "metadata": {},
   "source": [
    "#### Dummy Variable Creation"
   ]
  },
  {
   "cell_type": "code",
   "execution_count": 35,
   "id": "6094e434",
   "metadata": {},
   "outputs": [],
   "source": [
    "df1=pd.get_dummies(df)"
   ]
  },
  {
   "cell_type": "code",
   "execution_count": 36,
   "id": "6db2c508",
   "metadata": {},
   "outputs": [
    {
     "data": {
      "text/html": [
       "<div>\n",
       "<style scoped>\n",
       "    .dataframe tbody tr th:only-of-type {\n",
       "        vertical-align: middle;\n",
       "    }\n",
       "\n",
       "    .dataframe tbody tr th {\n",
       "        vertical-align: top;\n",
       "    }\n",
       "\n",
       "    .dataframe thead th {\n",
       "        text-align: right;\n",
       "    }\n",
       "</style>\n",
       "<table border=\"1\" class=\"dataframe\">\n",
       "  <thead>\n",
       "    <tr style=\"text-align: right;\">\n",
       "      <th></th>\n",
       "      <th>Profit Center</th>\n",
       "      <th>Employee Position</th>\n",
       "      <th>People Group</th>\n",
       "      <th>Employee Category</th>\n",
       "      <th>Current Status</th>\n",
       "    </tr>\n",
       "  </thead>\n",
       "  <tbody>\n",
       "    <tr>\n",
       "      <th>0</th>\n",
       "      <td>1</td>\n",
       "      <td>2</td>\n",
       "      <td>0</td>\n",
       "      <td>4</td>\n",
       "      <td>0</td>\n",
       "    </tr>\n",
       "    <tr>\n",
       "      <th>1</th>\n",
       "      <td>2</td>\n",
       "      <td>2</td>\n",
       "      <td>0</td>\n",
       "      <td>4</td>\n",
       "      <td>0</td>\n",
       "    </tr>\n",
       "    <tr>\n",
       "      <th>2</th>\n",
       "      <td>2</td>\n",
       "      <td>2</td>\n",
       "      <td>0</td>\n",
       "      <td>4</td>\n",
       "      <td>0</td>\n",
       "    </tr>\n",
       "    <tr>\n",
       "      <th>3</th>\n",
       "      <td>3</td>\n",
       "      <td>2</td>\n",
       "      <td>0</td>\n",
       "      <td>4</td>\n",
       "      <td>0</td>\n",
       "    </tr>\n",
       "    <tr>\n",
       "      <th>4</th>\n",
       "      <td>4</td>\n",
       "      <td>1</td>\n",
       "      <td>0</td>\n",
       "      <td>4</td>\n",
       "      <td>0</td>\n",
       "    </tr>\n",
       "    <tr>\n",
       "      <th>...</th>\n",
       "      <td>...</td>\n",
       "      <td>...</td>\n",
       "      <td>...</td>\n",
       "      <td>...</td>\n",
       "      <td>...</td>\n",
       "    </tr>\n",
       "    <tr>\n",
       "      <th>784</th>\n",
       "      <td>6</td>\n",
       "      <td>8</td>\n",
       "      <td>0</td>\n",
       "      <td>2</td>\n",
       "      <td>0</td>\n",
       "    </tr>\n",
       "    <tr>\n",
       "      <th>785</th>\n",
       "      <td>3</td>\n",
       "      <td>8</td>\n",
       "      <td>0</td>\n",
       "      <td>2</td>\n",
       "      <td>0</td>\n",
       "    </tr>\n",
       "    <tr>\n",
       "      <th>786</th>\n",
       "      <td>5</td>\n",
       "      <td>8</td>\n",
       "      <td>0</td>\n",
       "      <td>2</td>\n",
       "      <td>0</td>\n",
       "    </tr>\n",
       "    <tr>\n",
       "      <th>787</th>\n",
       "      <td>3</td>\n",
       "      <td>7</td>\n",
       "      <td>0</td>\n",
       "      <td>2</td>\n",
       "      <td>0</td>\n",
       "    </tr>\n",
       "    <tr>\n",
       "      <th>788</th>\n",
       "      <td>3</td>\n",
       "      <td>7</td>\n",
       "      <td>0</td>\n",
       "      <td>2</td>\n",
       "      <td>0</td>\n",
       "    </tr>\n",
       "  </tbody>\n",
       "</table>\n",
       "<p>789 rows × 5 columns</p>\n",
       "</div>"
      ],
      "text/plain": [
       "     Profit Center  Employee Position  People Group  Employee Category  \\\n",
       "0                1                  2             0                  4   \n",
       "1                2                  2             0                  4   \n",
       "2                2                  2             0                  4   \n",
       "3                3                  2             0                  4   \n",
       "4                4                  1             0                  4   \n",
       "..             ...                ...           ...                ...   \n",
       "784              6                  8             0                  2   \n",
       "785              3                  8             0                  2   \n",
       "786              5                  8             0                  2   \n",
       "787              3                  7             0                  2   \n",
       "788              3                  7             0                  2   \n",
       "\n",
       "     Current Status  \n",
       "0                 0  \n",
       "1                 0  \n",
       "2                 0  \n",
       "3                 0  \n",
       "4                 0  \n",
       "..              ...  \n",
       "784               0  \n",
       "785               0  \n",
       "786               0  \n",
       "787               0  \n",
       "788               0  \n",
       "\n",
       "[789 rows x 5 columns]"
      ]
     },
     "execution_count": 36,
     "metadata": {},
     "output_type": "execute_result"
    }
   ],
   "source": [
    "df1"
   ]
  },
  {
   "cell_type": "code",
   "execution_count": 37,
   "id": "2a5bd96a",
   "metadata": {},
   "outputs": [],
   "source": [
    "depVar = \"Current Status\"\n",
    "trainX = df1.drop([depVar], axis = 1).copy()\n",
    "trainY = df1[depVar].copy()\n"
   ]
  },
  {
   "cell_type": "code",
   "execution_count": 38,
   "id": "66de714d",
   "metadata": {},
   "outputs": [
    {
     "name": "stdout",
     "output_type": "stream",
     "text": [
      "<class 'pandas.core.frame.DataFrame'>\n",
      "RangeIndex: 789 entries, 0 to 788\n",
      "Data columns (total 4 columns):\n",
      " #   Column             Non-Null Count  Dtype\n",
      "---  ------             --------------  -----\n",
      " 0   Profit Center      789 non-null    int64\n",
      " 1   Employee Position  789 non-null    int64\n",
      " 2   People Group       789 non-null    int64\n",
      " 3   Employee Category  789 non-null    int64\n",
      "dtypes: int64(4)\n",
      "memory usage: 24.8 KB\n"
     ]
    }
   ],
   "source": [
    "trainX.info()"
   ]
  },
  {
   "cell_type": "code",
   "execution_count": 39,
   "id": "6203d534",
   "metadata": {},
   "outputs": [],
   "source": [
    "model_gbm = GradientBoostingClassifier(n_estimators= 5000,\n",
    "                                      learning_rate = 0.05,\n",
    "                                      max_depth=3,\n",
    "                                      subsample=0.5,\n",
    "                                      validation_fraction= 0.1,\n",
    "                                      n_iter_no_change = 20,\n",
    "                                      max_features = 'log2',\n",
    "                                      verbose=1)"
   ]
  },
  {
   "cell_type": "code",
   "execution_count": 40,
   "id": "bfb2ee63",
   "metadata": {},
   "outputs": [
    {
     "name": "stdout",
     "output_type": "stream",
     "text": [
      "      Iter       Train Loss      OOB Improve   Remaining Time \n",
      "         1           0.8333           0.0534            9.96s\n",
      "         2           0.8068           0.0739           14.95s\n",
      "         3           0.7740           0.0384           13.29s\n",
      "         4           0.7618           0.0491           15.07s\n",
      "         5           0.6872           0.0410           15.94s\n",
      "         6           0.6903           0.0267           16.48s\n",
      "         7           0.6284           0.0247           15.65s\n",
      "         8           0.5993           0.0300           15.56s\n",
      "         9           0.5602           0.0316           15.49s\n",
      "        10           0.5417           0.0016           15.94s\n",
      "        20           0.4427           0.0095           15.40s\n",
      "        30           0.2793           0.0047           13.55s\n",
      "        40           0.2627           0.0011           12.25s\n",
      "        50           0.2282           0.0040           11.70s\n",
      "        60           0.1956           0.0002           11.25s\n",
      "        70           0.2157           0.0014           10.89s\n",
      "        80           0.1526           0.0001           10.61s\n",
      "        90           0.1636          -0.0003           10.39s\n",
      "       100           0.1832           0.0003           10.26s\n"
     ]
    },
    {
     "data": {
      "text/plain": [
       "GradientBoostingClassifier(learning_rate=0.05, max_features='log2',\n",
       "                           n_estimators=5000, n_iter_no_change=20,\n",
       "                           subsample=0.5, verbose=1)"
      ]
     },
     "execution_count": 40,
     "metadata": {},
     "output_type": "execute_result"
    }
   ],
   "source": [
    "model_gbm.fit(trainX, trainY)"
   ]
  },
  {
   "cell_type": "markdown",
   "id": "97223a13",
   "metadata": {},
   "source": [
    "# import test data set"
   ]
  },
  {
   "cell_type": "code",
   "execution_count": 41,
   "id": "36e5e7b5",
   "metadata": {},
   "outputs": [],
   "source": [
    "df_test = pd.read_excel('D:/My data/Aru/Project/staff utlz latest 17-18_masked.xlsx')"
   ]
  },
  {
   "cell_type": "code",
   "execution_count": 42,
   "id": "9ca38c86",
   "metadata": {},
   "outputs": [
    {
     "name": "stdout",
     "output_type": "stream",
     "text": [
      "   Employee No Profit Center      Employee Name Employee Position  \\\n",
      "0            1        PC - 1   Rochette Jilleen           Level 1   \n",
      "1            2        PC - 2     Daryl Natalina           Level 2   \n",
      "2            3        PC - 2  Annnora Gabrielle           Level 2   \n",
      "3            4        PC - 3        Barbee Joey           Level 2   \n",
      "4            6        PC - 1     Jordanna Danya           Level 2   \n",
      "\n",
      "  Employee Location          People Group Employee Category   Supervisor name  \\\n",
      "0        Location 3  Client Service Staff            SVP/VP  Idalina Lauraine   \n",
      "1        Location 7  Client Service Staff            SVP/VP  Idalina Lauraine   \n",
      "2        Location 7  Client Service Staff            SVP/VP  Idalina Lauraine   \n",
      "3        Location 1  Client Service Staff          Resigned  Idalina Lauraine   \n",
      "4        Location 3  Client Service Staff            SVP/VP  Idalina Lauraine   \n",
      "\n",
      "   Join Date Current Status Termination Date  Total Available Hours  \\\n",
      "0 2000-09-30         Active              NaT                 1864.5   \n",
      "1 1999-05-31         Active              NaT                 1868.0   \n",
      "2 2001-01-31         Active              NaT                 1720.0   \n",
      "3 2000-09-30       Resigned       2018-02-28                 1640.5   \n",
      "4 2002-06-30         Active              NaT                 1812.0   \n",
      "\n",
      "   Work Hours  Leave Hours  Training Hours  BD Hours  NC Hours Utilization%  \n",
      "0       448.0          188            27.5    1431.5      18.0     0.240279  \n",
      "1       722.0          208             4.0     600.5     596.5      0.38651  \n",
      "2      1173.0          338            22.0     463.5     357.5     0.681977  \n",
      "3       273.0          196             3.5    1361.0      24.0     0.166413  \n",
      "4       428.0          260             8.0    1237.0     470.0     0.236203  \n"
     ]
    }
   ],
   "source": [
    "df_test.rename(columns={'Employee Number':'Employee No'},inplace=True)\n",
    "print(df_test.head())\n"
   ]
  },
  {
   "cell_type": "code",
   "execution_count": 43,
   "id": "f02bfcf2",
   "metadata": {},
   "outputs": [
    {
     "name": "stdout",
     "output_type": "stream",
     "text": [
      "NO.of Records :  973\n",
      "NO.of Columns :  18\n",
      "Index(['Employee No', 'Profit Center', 'Employee Name', 'Employee Position',\n",
      "       'Employee Location', 'People Group', 'Employee Category',\n",
      "       'Supervisor name', 'Join Date', 'Current Status', 'Termination Date',\n",
      "       'Total Available Hours', 'Work Hours', 'Leave Hours', 'Training Hours',\n",
      "       'BD Hours', 'NC Hours', 'Utilization%'],\n",
      "      dtype='object')\n"
     ]
    }
   ],
   "source": [
    "print(\"NO.of Records : \",df_test.shape[0])\n",
    "\n",
    "print(\"NO.of Columns : \",df_test.shape[1])\n",
    "\n",
    "print(df_test.columns)"
   ]
  },
  {
   "cell_type": "code",
   "execution_count": 44,
   "id": "021272fd",
   "metadata": {},
   "outputs": [
    {
     "name": "stdout",
     "output_type": "stream",
     "text": [
      "<class 'pandas.core.frame.DataFrame'>\n",
      "RangeIndex: 973 entries, 0 to 972\n",
      "Data columns (total 18 columns):\n",
      " #   Column                 Non-Null Count  Dtype         \n",
      "---  ------                 --------------  -----         \n",
      " 0   Employee No            973 non-null    int64         \n",
      " 1   Profit Center          973 non-null    object        \n",
      " 2   Employee Name          973 non-null    object        \n",
      " 3   Employee Position      964 non-null    object        \n",
      " 4   Employee Location      973 non-null    object        \n",
      " 5   People Group           973 non-null    object        \n",
      " 6   Employee Category      973 non-null    object        \n",
      " 7   Supervisor name        973 non-null    object        \n",
      " 8   Join Date              973 non-null    datetime64[ns]\n",
      " 9   Current Status         973 non-null    object        \n",
      " 10  Termination Date       145 non-null    datetime64[ns]\n",
      " 11  Total Available Hours  973 non-null    float64       \n",
      " 12  Work Hours             973 non-null    float64       \n",
      " 13  Leave Hours            973 non-null    int64         \n",
      " 14  Training Hours         973 non-null    float64       \n",
      " 15  BD Hours               973 non-null    float64       \n",
      " 16  NC Hours               973 non-null    float64       \n",
      " 17  Utilization%           973 non-null    object        \n",
      "dtypes: datetime64[ns](2), float64(5), int64(2), object(9)\n",
      "memory usage: 137.0+ KB\n"
     ]
    }
   ],
   "source": [
    "df_test.info()"
   ]
  },
  {
   "cell_type": "code",
   "execution_count": 45,
   "id": "364a6a82",
   "metadata": {},
   "outputs": [
    {
     "data": {
      "text/html": [
       "<div>\n",
       "<style scoped>\n",
       "    .dataframe tbody tr th:only-of-type {\n",
       "        vertical-align: middle;\n",
       "    }\n",
       "\n",
       "    .dataframe tbody tr th {\n",
       "        vertical-align: top;\n",
       "    }\n",
       "\n",
       "    .dataframe thead th {\n",
       "        text-align: right;\n",
       "    }\n",
       "</style>\n",
       "<table border=\"1\" class=\"dataframe\">\n",
       "  <thead>\n",
       "    <tr style=\"text-align: right;\">\n",
       "      <th></th>\n",
       "      <th>Employee No</th>\n",
       "      <th>Total Available Hours</th>\n",
       "      <th>Work Hours</th>\n",
       "      <th>Leave Hours</th>\n",
       "      <th>Training Hours</th>\n",
       "      <th>BD Hours</th>\n",
       "      <th>NC Hours</th>\n",
       "    </tr>\n",
       "  </thead>\n",
       "  <tbody>\n",
       "    <tr>\n",
       "      <th>count</th>\n",
       "      <td>973.000000</td>\n",
       "      <td>973.000000</td>\n",
       "      <td>973.000000</td>\n",
       "      <td>973.000000</td>\n",
       "      <td>973.000000</td>\n",
       "      <td>973.000000</td>\n",
       "      <td>973.000000</td>\n",
       "    </tr>\n",
       "    <tr>\n",
       "      <th>mean</th>\n",
       "      <td>589.393628</td>\n",
       "      <td>1419.998016</td>\n",
       "      <td>1098.604902</td>\n",
       "      <td>185.403905</td>\n",
       "      <td>28.630966</td>\n",
       "      <td>63.147996</td>\n",
       "      <td>335.591316</td>\n",
       "    </tr>\n",
       "    <tr>\n",
       "      <th>std</th>\n",
       "      <td>321.730420</td>\n",
       "      <td>582.941410</td>\n",
       "      <td>643.488904</td>\n",
       "      <td>164.402185</td>\n",
       "      <td>29.013199</td>\n",
       "      <td>256.820173</td>\n",
       "      <td>393.627343</td>\n",
       "    </tr>\n",
       "    <tr>\n",
       "      <th>min</th>\n",
       "      <td>1.000000</td>\n",
       "      <td>-40.000000</td>\n",
       "      <td>-42.000000</td>\n",
       "      <td>0.000000</td>\n",
       "      <td>0.000000</td>\n",
       "      <td>0.000000</td>\n",
       "      <td>-8.000000</td>\n",
       "    </tr>\n",
       "    <tr>\n",
       "      <th>25%</th>\n",
       "      <td>317.000000</td>\n",
       "      <td>1097.500000</td>\n",
       "      <td>560.000000</td>\n",
       "      <td>96.000000</td>\n",
       "      <td>8.000000</td>\n",
       "      <td>0.000000</td>\n",
       "      <td>60.000000</td>\n",
       "    </tr>\n",
       "    <tr>\n",
       "      <th>50%</th>\n",
       "      <td>612.000000</td>\n",
       "      <td>1733.000000</td>\n",
       "      <td>1240.000000</td>\n",
       "      <td>176.000000</td>\n",
       "      <td>23.000000</td>\n",
       "      <td>0.000000</td>\n",
       "      <td>200.000000</td>\n",
       "    </tr>\n",
       "    <tr>\n",
       "      <th>75%</th>\n",
       "      <td>868.000000</td>\n",
       "      <td>1836.500000</td>\n",
       "      <td>1656.000000</td>\n",
       "      <td>248.000000</td>\n",
       "      <td>40.000000</td>\n",
       "      <td>0.000000</td>\n",
       "      <td>450.000000</td>\n",
       "    </tr>\n",
       "    <tr>\n",
       "      <th>max</th>\n",
       "      <td>1111.000000</td>\n",
       "      <td>2080.000000</td>\n",
       "      <td>2669.000000</td>\n",
       "      <td>2080.000000</td>\n",
       "      <td>150.000000</td>\n",
       "      <td>2015.000000</td>\n",
       "      <td>2257.000000</td>\n",
       "    </tr>\n",
       "  </tbody>\n",
       "</table>\n",
       "</div>"
      ],
      "text/plain": [
       "       Employee No  Total Available Hours   Work Hours  Leave Hours  \\\n",
       "count   973.000000             973.000000   973.000000   973.000000   \n",
       "mean    589.393628            1419.998016  1098.604902   185.403905   \n",
       "std     321.730420             582.941410   643.488904   164.402185   \n",
       "min       1.000000             -40.000000   -42.000000     0.000000   \n",
       "25%     317.000000            1097.500000   560.000000    96.000000   \n",
       "50%     612.000000            1733.000000  1240.000000   176.000000   \n",
       "75%     868.000000            1836.500000  1656.000000   248.000000   \n",
       "max    1111.000000            2080.000000  2669.000000  2080.000000   \n",
       "\n",
       "       Training Hours     BD Hours     NC Hours  \n",
       "count      973.000000   973.000000   973.000000  \n",
       "mean        28.630966    63.147996   335.591316  \n",
       "std         29.013199   256.820173   393.627343  \n",
       "min          0.000000     0.000000    -8.000000  \n",
       "25%          8.000000     0.000000    60.000000  \n",
       "50%         23.000000     0.000000   200.000000  \n",
       "75%         40.000000     0.000000   450.000000  \n",
       "max        150.000000  2015.000000  2257.000000  "
      ]
     },
     "execution_count": 45,
     "metadata": {},
     "output_type": "execute_result"
    }
   ],
   "source": [
    "df_test.describe()"
   ]
  },
  {
   "cell_type": "code",
   "execution_count": 46,
   "id": "902cce19",
   "metadata": {},
   "outputs": [
    {
     "data": {
      "text/plain": [
       "Employee No                0\n",
       "Profit Center              0\n",
       "Employee Name              0\n",
       "Employee Position          9\n",
       "Employee Location          0\n",
       "People Group               0\n",
       "Employee Category          0\n",
       "Supervisor name            0\n",
       "Join Date                  0\n",
       "Current Status             0\n",
       "Termination Date         828\n",
       "Total Available Hours      0\n",
       "Work Hours                 0\n",
       "Leave Hours                0\n",
       "Training Hours             0\n",
       "BD Hours                   0\n",
       "NC Hours                   0\n",
       "Utilization%               0\n",
       "dtype: int64"
      ]
     },
     "execution_count": 46,
     "metadata": {},
     "output_type": "execute_result"
    }
   ],
   "source": [
    "# Data Preparation \n",
    "\n",
    "#1. chech missing values\n",
    "\n",
    "df_test.isnull().sum()\n",
    "# no null values in data set\n"
   ]
  },
  {
   "cell_type": "code",
   "execution_count": 47,
   "id": "ada3b928",
   "metadata": {},
   "outputs": [
    {
     "data": {
      "text/plain": [
       "People Group               2\n",
       "Current Status             5\n",
       "Profit Center              6\n",
       "Employee Location          9\n",
       "Employee Position         11\n",
       "Employee Category         11\n",
       "Termination Date          15\n",
       "BD Hours                 102\n",
       "Join Date                120\n",
       "Leave Hours              134\n",
       "Supervisor name          139\n",
       "Training Hours           226\n",
       "NC Hours                 535\n",
       "Total Available Hours    670\n",
       "Work Hours               705\n",
       "Utilization%             877\n",
       "Employee Name            971\n",
       "Employee No              973\n",
       "dtype: int64"
      ]
     },
     "execution_count": 47,
     "metadata": {},
     "output_type": "execute_result"
    }
   ],
   "source": [
    "df_test.nunique().sort_values()"
   ]
  },
  {
   "cell_type": "code",
   "execution_count": 48,
   "id": "da908960",
   "metadata": {},
   "outputs": [],
   "source": [
    "### Drop unnecessary columns\n",
    "\n",
    "df_test=df_test.drop('Employee No',axis=1)\n",
    "\n",
    "df_test=df_test.drop('Employee Name',axis=1)\n",
    "\n",
    "df_test=df_test.drop('Employee Location',axis=1)\n",
    "\n",
    "df_test=df_test.drop('BD Hours',axis=1)\n",
    "\n",
    "df_test=df_test.drop('Training Hours',axis=1)\n",
    "\n",
    "df_test=df_test.drop('Work Hours',axis=1)\n",
    "\n",
    "df_test=df_test.drop('NC Hours',axis=1)\n",
    "\n",
    "df_test=df_test.drop('Utilization%',axis=1)\n",
    "\n",
    "df_test=df_test.drop('Leave Hours',axis=1)\n",
    "\n",
    "df_test=df_test.drop('Total Available Hours',axis=1)\n",
    "\n",
    "df_test=df_test.drop('Supervisor name',axis=1) \n"
   ]
  },
  {
   "cell_type": "code",
   "execution_count": 49,
   "id": "4f3f89a5",
   "metadata": {},
   "outputs": [
    {
     "name": "stdout",
     "output_type": "stream",
     "text": [
      "<class 'pandas.core.frame.DataFrame'>\n",
      "RangeIndex: 973 entries, 0 to 972\n",
      "Data columns (total 7 columns):\n",
      " #   Column             Non-Null Count  Dtype         \n",
      "---  ------             --------------  -----         \n",
      " 0   Profit Center      973 non-null    object        \n",
      " 1   Employee Position  964 non-null    object        \n",
      " 2   People Group       973 non-null    object        \n",
      " 3   Employee Category  973 non-null    object        \n",
      " 4   Join Date          973 non-null    datetime64[ns]\n",
      " 5   Current Status     973 non-null    object        \n",
      " 6   Termination Date   145 non-null    datetime64[ns]\n",
      "dtypes: datetime64[ns](2), object(5)\n",
      "memory usage: 53.3+ KB\n"
     ]
    }
   ],
   "source": [
    "df_test.info()"
   ]
  },
  {
   "cell_type": "code",
   "execution_count": 50,
   "id": "b64a8722",
   "metadata": {},
   "outputs": [],
   "source": [
    "df_test=df_test.drop('Join Date',axis=1) \n",
    "df_test=df_test.drop('Termination Date',axis=1) \n"
   ]
  },
  {
   "cell_type": "code",
   "execution_count": 51,
   "id": "0ab3d68a",
   "metadata": {},
   "outputs": [
    {
     "data": {
      "text/plain": [
       "0    828\n",
       "1    145\n",
       "Name: Current Status, dtype: int64"
      ]
     },
     "execution_count": 51,
     "metadata": {},
     "output_type": "execute_result"
    }
   ],
   "source": [
    "# current status\n",
    "# Active = 0\n",
    "# Resigned = 1\n",
    "# Secondment = 0\n",
    "#New Joiner = 0\n",
    "#Sabbatical = 0\n",
    "var_update = 'Current Status'\n",
    "df[var_update].value_counts()\n",
    "\n",
    "# Current Status\n",
    "df_test[var_update].replace({\"Active\":0, \"Resigned\":1, \"Secondment\":0, \"Sabbatical\":0, \"New Joiner\" : 0, \n",
    "                             }, inplace = True)\n",
    "\n",
    "df_test[var_update].value_counts()"
   ]
  },
  {
   "cell_type": "code",
   "execution_count": 52,
   "id": "2baf5c93",
   "metadata": {},
   "outputs": [
    {
     "data": {
      "text/plain": [
       "0    963\n",
       "1     10\n",
       "Name: People Group, dtype: int64"
      ]
     },
     "execution_count": 52,
     "metadata": {},
     "output_type": "execute_result"
    }
   ],
   "source": [
    "## categorical values client service staff, support staff\n",
    "var_update = 'People Group'\n",
    "df_test[var_update].value_counts() # To check the unique categories of the variable\n",
    "df_test[var_update].replace({\"Client Service Staff\":0, \"Support Staff\":1}, inplace = True)\n",
    "df_test[var_update].value_counts()"
   ]
  },
  {
   "cell_type": "code",
   "execution_count": 53,
   "id": "cd457653",
   "metadata": {},
   "outputs": [],
   "source": [
    "df_test['Employee Position'].replace(np.nan, \"Level 0\", inplace = True )"
   ]
  },
  {
   "cell_type": "code",
   "execution_count": 54,
   "id": "c9ce5598",
   "metadata": {},
   "outputs": [
    {
     "data": {
      "text/plain": [
       "Level 7     324\n",
       "Level 8     269\n",
       "Level 6     198\n",
       "Level 5      90\n",
       "Level 4      43\n",
       "Level 3      20\n",
       "Level 2      11\n",
       "Level 0       9\n",
       "Level A2      3\n",
       "Level A3      3\n",
       "Level A1      2\n",
       "Level 1       1\n",
       "Name: Employee Position, dtype: int64"
      ]
     },
     "execution_count": 54,
     "metadata": {},
     "output_type": "execute_result"
    }
   ],
   "source": [
    "var_update = 'Employee Position'\n",
    "df_test[var_update].value_counts() # To check the unique categories of the variable\n"
   ]
  },
  {
   "cell_type": "code",
   "execution_count": 55,
   "id": "b77cb2ef",
   "metadata": {},
   "outputs": [
    {
     "data": {
      "text/plain": [
       "7     324\n",
       "8     269\n",
       "6     198\n",
       "5      90\n",
       "4      43\n",
       "3      20\n",
       "2      11\n",
       "1      10\n",
       "12      3\n",
       "13      3\n",
       "11      2\n",
       "Name: Employee Position, dtype: int64"
      ]
     },
     "execution_count": 55,
     "metadata": {},
     "output_type": "execute_result"
    }
   ],
   "source": [
    "df_test[var_update].replace({\"Level 1\":1, \"Level 2\":2, \"Level 3\":3, \"Level 4\":4,\n",
    "                             \"Level 5\":5, \"Level 6\":6, \"Level 7\":7, \"Level 8\":8,\"Level 10\":10,\n",
    "                             \"Level A1\":11, \"Level A2\":12, \"Level A3\":13, \"Level 0\":1}, inplace = True)\n",
    "df_test[var_update].value_counts()"
   ]
  },
  {
   "cell_type": "code",
   "execution_count": 56,
   "id": "b59dca8d",
   "metadata": {},
   "outputs": [
    {
     "data": {
      "text/plain": [
       "Confirmed Staff                        677\n",
       "Resigned                               145\n",
       "Staff on Probation                      96\n",
       "Serving Notice Period                   31\n",
       "SVP/VP                                   9\n",
       "Secondee-Outward-Without Pay             6\n",
       "Fixed term Staff                         2\n",
       "Awaiting Termination                     2\n",
       "Confirmed-Sabbatical                     2\n",
       "Confirmed Staff (Part-Time 6 Hours)      2\n",
       "Confirmed Staff (Part-Time 4 Hours)      1\n",
       "Name: Employee Category, dtype: int64"
      ]
     },
     "execution_count": 56,
     "metadata": {},
     "output_type": "execute_result"
    }
   ],
   "source": [
    "var_update = 'Employee Category'\n",
    "df_test[var_update].value_counts() # To check the unique categories of the variable\n"
   ]
  },
  {
   "cell_type": "code",
   "execution_count": 57,
   "id": "26ae454f",
   "metadata": {},
   "outputs": [
    {
     "data": {
      "text/plain": [
       "0     677\n",
       "7     145\n",
       "2      96\n",
       "1      31\n",
       "8       9\n",
       "3       6\n",
       "5       2\n",
       "9       2\n",
       "11      2\n",
       "12      2\n",
       "4       1\n",
       "Name: Employee Category, dtype: int64"
      ]
     },
     "execution_count": 57,
     "metadata": {},
     "output_type": "execute_result"
    }
   ],
   "source": [
    "df_test[var_update].replace({\"Confirmed Staff\":0,\"Serving Notice Period\":1, \"Staff on Probation\":2, \n",
    "                                     \"Secondee-Outward-Without Pay\":3, \"Awaiting Termination\":5,\n",
    "                                        \"Secondee-Outward-With Pay\":6 , \"Resigned\":7,\"SVP/VP\":8,\"Confirmed-Sabbatical\":9,\n",
    "                            \"Confirmed Staff (Part-Time 6 Hours)\":10, \"Confirmed Staff (Part-Time 6 Hours)\":11,\n",
    "                            \"Fixed term Staff\":12, \"Confirmed Staff (Part-Time 4 Hours)\":4}, inplace = True)\n",
    "df_test[var_update].value_counts()"
   ]
  },
  {
   "cell_type": "code",
   "execution_count": 58,
   "id": "5e9eb259",
   "metadata": {},
   "outputs": [
    {
     "data": {
      "text/plain": [
       "PC - 3     394\n",
       "PC - 2     306\n",
       "PC - 1     264\n",
       "PC - 5       6\n",
       "PC - 6       2\n",
       "PC - 11      1\n",
       "Name: Profit Center, dtype: int64"
      ]
     },
     "execution_count": 58,
     "metadata": {},
     "output_type": "execute_result"
    }
   ],
   "source": [
    "# profit center\n",
    "var_update = 'Profit Center'\n",
    "df_test[var_update].value_counts() # To check the unique categories of the variable"
   ]
  },
  {
   "cell_type": "code",
   "execution_count": 59,
   "id": "987eb667",
   "metadata": {},
   "outputs": [
    {
     "data": {
      "text/plain": [
       "3     394\n",
       "2     306\n",
       "1     264\n",
       "5       6\n",
       "6       2\n",
       "11      1\n",
       "Name: Profit Center, dtype: int64"
      ]
     },
     "execution_count": 59,
     "metadata": {},
     "output_type": "execute_result"
    }
   ],
   "source": [
    "df_test[var_update].replace({\"PC - 1\":1,\"PC - 2\":2, \"PC - 3\":3, \n",
    "                                     \"PC - 4\":4,  \"PC - 5\":5, \"PC - 6\":6,\"PC - 7\":7,\"PC - 8\":8,\"PC - 9\":9,\n",
    "                                        \"PC - 10\":10, \"PC - 11\":11}, inplace = True)\n",
    "df_test[var_update].value_counts()"
   ]
  },
  {
   "cell_type": "code",
   "execution_count": 60,
   "id": "a8d6422a",
   "metadata": {},
   "outputs": [],
   "source": [
    "df_test['Profit Center'] = pd.to_numeric(df_test['Profit Center'])"
   ]
  },
  {
   "cell_type": "code",
   "execution_count": 61,
   "id": "24ee178e",
   "metadata": {},
   "outputs": [],
   "source": [
    "df_test['Employee Position'] = pd.to_numeric(df_test['Employee Position'], errors = 'coerce').astype('Int64')"
   ]
  },
  {
   "cell_type": "code",
   "execution_count": 62,
   "id": "212d3dff",
   "metadata": {},
   "outputs": [
    {
     "name": "stdout",
     "output_type": "stream",
     "text": [
      "<class 'pandas.core.frame.DataFrame'>\n",
      "RangeIndex: 973 entries, 0 to 972\n",
      "Data columns (total 5 columns):\n",
      " #   Column             Non-Null Count  Dtype\n",
      "---  ------             --------------  -----\n",
      " 0   Profit Center      973 non-null    int64\n",
      " 1   Employee Position  973 non-null    Int64\n",
      " 2   People Group       973 non-null    int64\n",
      " 3   Employee Category  973 non-null    int64\n",
      " 4   Current Status     973 non-null    int64\n",
      "dtypes: Int64(1), int64(4)\n",
      "memory usage: 39.1 KB\n"
     ]
    }
   ],
   "source": [
    "df_test.info()"
   ]
  },
  {
   "cell_type": "code",
   "execution_count": 63,
   "id": "963407fa",
   "metadata": {},
   "outputs": [],
   "source": [
    "#### Dummy Variable Creation\n",
    "\n",
    "df_test1=pd.get_dummies(df_test)"
   ]
  },
  {
   "cell_type": "code",
   "execution_count": 64,
   "id": "b637d83f",
   "metadata": {},
   "outputs": [
    {
     "name": "stdout",
     "output_type": "stream",
     "text": [
      "<class 'pandas.core.frame.DataFrame'>\n",
      "RangeIndex: 973 entries, 0 to 972\n",
      "Data columns (total 5 columns):\n",
      " #   Column             Non-Null Count  Dtype\n",
      "---  ------             --------------  -----\n",
      " 0   Profit Center      973 non-null    int64\n",
      " 1   Employee Position  973 non-null    Int64\n",
      " 2   People Group       973 non-null    int64\n",
      " 3   Employee Category  973 non-null    int64\n",
      " 4   Current Status     973 non-null    int64\n",
      "dtypes: Int64(1), int64(4)\n",
      "memory usage: 39.1 KB\n"
     ]
    }
   ],
   "source": [
    "df_test1.info()"
   ]
  },
  {
   "cell_type": "code",
   "execution_count": 65,
   "id": "bb0933c2",
   "metadata": {},
   "outputs": [],
   "source": [
    "depVar = \"Current Status\"\n",
    "testX = df_test1.drop([depVar], axis = 1).copy()\n",
    "testY = df_test1[depVar].copy()\n"
   ]
  },
  {
   "cell_type": "code",
   "execution_count": 66,
   "id": "29fed4d1",
   "metadata": {},
   "outputs": [
    {
     "data": {
      "text/html": [
       "<div>\n",
       "<style scoped>\n",
       "    .dataframe tbody tr th:only-of-type {\n",
       "        vertical-align: middle;\n",
       "    }\n",
       "\n",
       "    .dataframe tbody tr th {\n",
       "        vertical-align: top;\n",
       "    }\n",
       "\n",
       "    .dataframe thead th {\n",
       "        text-align: right;\n",
       "    }\n",
       "</style>\n",
       "<table border=\"1\" class=\"dataframe\">\n",
       "  <thead>\n",
       "    <tr style=\"text-align: right;\">\n",
       "      <th></th>\n",
       "      <th>Profit Center</th>\n",
       "      <th>Employee Position</th>\n",
       "      <th>People Group</th>\n",
       "      <th>Employee Category</th>\n",
       "    </tr>\n",
       "  </thead>\n",
       "  <tbody>\n",
       "    <tr>\n",
       "      <th>0</th>\n",
       "      <td>1</td>\n",
       "      <td>1</td>\n",
       "      <td>0</td>\n",
       "      <td>8</td>\n",
       "    </tr>\n",
       "    <tr>\n",
       "      <th>1</th>\n",
       "      <td>2</td>\n",
       "      <td>2</td>\n",
       "      <td>0</td>\n",
       "      <td>8</td>\n",
       "    </tr>\n",
       "    <tr>\n",
       "      <th>2</th>\n",
       "      <td>2</td>\n",
       "      <td>2</td>\n",
       "      <td>0</td>\n",
       "      <td>8</td>\n",
       "    </tr>\n",
       "    <tr>\n",
       "      <th>3</th>\n",
       "      <td>3</td>\n",
       "      <td>2</td>\n",
       "      <td>0</td>\n",
       "      <td>7</td>\n",
       "    </tr>\n",
       "    <tr>\n",
       "      <th>4</th>\n",
       "      <td>1</td>\n",
       "      <td>2</td>\n",
       "      <td>0</td>\n",
       "      <td>8</td>\n",
       "    </tr>\n",
       "    <tr>\n",
       "      <th>...</th>\n",
       "      <td>...</td>\n",
       "      <td>...</td>\n",
       "      <td>...</td>\n",
       "      <td>...</td>\n",
       "    </tr>\n",
       "    <tr>\n",
       "      <th>968</th>\n",
       "      <td>1</td>\n",
       "      <td>8</td>\n",
       "      <td>0</td>\n",
       "      <td>2</td>\n",
       "    </tr>\n",
       "    <tr>\n",
       "      <th>969</th>\n",
       "      <td>1</td>\n",
       "      <td>7</td>\n",
       "      <td>0</td>\n",
       "      <td>2</td>\n",
       "    </tr>\n",
       "    <tr>\n",
       "      <th>970</th>\n",
       "      <td>3</td>\n",
       "      <td>8</td>\n",
       "      <td>0</td>\n",
       "      <td>2</td>\n",
       "    </tr>\n",
       "    <tr>\n",
       "      <th>971</th>\n",
       "      <td>3</td>\n",
       "      <td>7</td>\n",
       "      <td>0</td>\n",
       "      <td>2</td>\n",
       "    </tr>\n",
       "    <tr>\n",
       "      <th>972</th>\n",
       "      <td>2</td>\n",
       "      <td>8</td>\n",
       "      <td>0</td>\n",
       "      <td>2</td>\n",
       "    </tr>\n",
       "  </tbody>\n",
       "</table>\n",
       "<p>973 rows × 4 columns</p>\n",
       "</div>"
      ],
      "text/plain": [
       "     Profit Center  Employee Position  People Group  Employee Category\n",
       "0                1                  1             0                  8\n",
       "1                2                  2             0                  8\n",
       "2                2                  2             0                  8\n",
       "3                3                  2             0                  7\n",
       "4                1                  2             0                  8\n",
       "..             ...                ...           ...                ...\n",
       "968              1                  8             0                  2\n",
       "969              1                  7             0                  2\n",
       "970              3                  8             0                  2\n",
       "971              3                  7             0                  2\n",
       "972              2                  8             0                  2\n",
       "\n",
       "[973 rows x 4 columns]"
      ]
     },
     "execution_count": 66,
     "metadata": {},
     "output_type": "execute_result"
    }
   ],
   "source": [
    "testX"
   ]
  },
  {
   "cell_type": "code",
   "execution_count": 67,
   "id": "a83a83dd",
   "metadata": {},
   "outputs": [
    {
     "data": {
      "text/plain": [
       "0      0\n",
       "1      0\n",
       "2      0\n",
       "3      1\n",
       "4      0\n",
       "      ..\n",
       "968    0\n",
       "969    0\n",
       "970    0\n",
       "971    0\n",
       "972    0\n",
       "Name: Current Status, Length: 973, dtype: int64"
      ]
     },
     "execution_count": 67,
     "metadata": {},
     "output_type": "execute_result"
    }
   ],
   "source": [
    "testY"
   ]
  },
  {
   "cell_type": "markdown",
   "id": "747d53fb",
   "metadata": {},
   "source": [
    "#### Prediction"
   ]
  },
  {
   "cell_type": "code",
   "execution_count": 69,
   "id": "626601d2",
   "metadata": {},
   "outputs": [],
   "source": [
    "test_pred = model_gbm.predict(testX)"
   ]
  },
  {
   "cell_type": "markdown",
   "id": "4d65c784",
   "metadata": {},
   "source": [
    "#### Confusion Matrix"
   ]
  },
  {
   "cell_type": "code",
   "execution_count": 70,
   "id": "789c677c",
   "metadata": {},
   "outputs": [],
   "source": [
    "Confu_mat = pd.crosstab(testY, test_pred)"
   ]
  },
  {
   "cell_type": "code",
   "execution_count": 72,
   "id": "99b10254",
   "metadata": {},
   "outputs": [
    {
     "data": {
      "text/html": [
       "<div>\n",
       "<style scoped>\n",
       "    .dataframe tbody tr th:only-of-type {\n",
       "        vertical-align: middle;\n",
       "    }\n",
       "\n",
       "    .dataframe tbody tr th {\n",
       "        vertical-align: top;\n",
       "    }\n",
       "\n",
       "    .dataframe thead th {\n",
       "        text-align: right;\n",
       "    }\n",
       "</style>\n",
       "<table border=\"1\" class=\"dataframe\">\n",
       "  <thead>\n",
       "    <tr style=\"text-align: right;\">\n",
       "      <th>col_0</th>\n",
       "      <th>0</th>\n",
       "      <th>1</th>\n",
       "    </tr>\n",
       "    <tr>\n",
       "      <th>Current Status</th>\n",
       "      <th></th>\n",
       "      <th></th>\n",
       "    </tr>\n",
       "  </thead>\n",
       "  <tbody>\n",
       "    <tr>\n",
       "      <th>0</th>\n",
       "      <td>797</td>\n",
       "      <td>31</td>\n",
       "    </tr>\n",
       "    <tr>\n",
       "      <th>1</th>\n",
       "      <td>145</td>\n",
       "      <td>0</td>\n",
       "    </tr>\n",
       "  </tbody>\n",
       "</table>\n",
       "</div>"
      ],
      "text/plain": [
       "col_0             0   1\n",
       "Current Status         \n",
       "0               797  31\n",
       "1               145   0"
      ]
     },
     "execution_count": 72,
     "metadata": {},
     "output_type": "execute_result"
    }
   ],
   "source": [
    "Confu_mat"
   ]
  },
  {
   "cell_type": "code",
   "execution_count": 73,
   "id": "7941fc69",
   "metadata": {},
   "outputs": [
    {
     "name": "stdout",
     "output_type": "stream",
     "text": [
      "              precision    recall  f1-score   support\n",
      "\n",
      "           0       0.85      0.96      0.90       828\n",
      "           1       0.00      0.00      0.00       145\n",
      "\n",
      "    accuracy                           0.82       973\n",
      "   macro avg       0.42      0.48      0.45       973\n",
      "weighted avg       0.72      0.82      0.77       973\n",
      "\n"
     ]
    }
   ],
   "source": [
    "from sklearn.metrics import classification_report\n",
    "\n",
    "print(classification_report(testY, test_pred))"
   ]
  },
  {
   "cell_type": "code",
   "execution_count": null,
   "id": "49081b5f",
   "metadata": {},
   "outputs": [],
   "source": []
  }
 ],
 "metadata": {
  "kernelspec": {
   "display_name": "Python 3",
   "language": "python",
   "name": "python3"
  },
  "language_info": {
   "codemirror_mode": {
    "name": "ipython",
    "version": 3
   },
   "file_extension": ".py",
   "mimetype": "text/x-python",
   "name": "python",
   "nbconvert_exporter": "python",
   "pygments_lexer": "ipython3",
   "version": "3.8.8"
  }
 },
 "nbformat": 4,
 "nbformat_minor": 5
}
