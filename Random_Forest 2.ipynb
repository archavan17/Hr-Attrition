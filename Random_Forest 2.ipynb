{
 "cells": [
  {
   "cell_type": "markdown",
   "id": "f2c7c5e6",
   "metadata": {},
   "source": [
    "# Random Forest\n"
   ]
  },
  {
   "cell_type": "code",
   "execution_count": 1,
   "id": "1ac6120d",
   "metadata": {},
   "outputs": [],
   "source": [
    "# import libraries\n",
    "\n",
    "import pandas as pd\n",
    "import numpy as np\n",
    "import os\n",
    "\n",
    "\n",
    "# import sklearn libraries\n",
    "from sklearn.model_selection import train_test_split\n",
    "from sklearn.model_selection import train_test_split\n",
    "from sklearn.ensemble import RandomForestClassifier\n",
    "from sklearn.model_selection import GridSearchCV\n",
    "from sklearn.metrics import roc_auc_score\n",
    "\n",
    "import matplotlib.pylab as plt\n",
    "import warnings\n",
    "warnings.filterwarnings(\"ignore\")"
   ]
  },
  {
   "cell_type": "code",
   "execution_count": 2,
   "id": "5f41ae5b",
   "metadata": {},
   "outputs": [],
   "source": [
    "# insert data file: staff_16-17\n",
    "df=pd.read_excel('D:/My data/Aru/Project/staff utlz latest 16-17_masked_RF.xlsx')"
   ]
  },
  {
   "cell_type": "code",
   "execution_count": 3,
   "id": "cafd738b",
   "metadata": {},
   "outputs": [
    {
     "name": "stdout",
     "output_type": "stream",
     "text": [
      "   Employee No Employee Position   Supervisor name Current Status  \\\n",
      "0            1           Level 2  Idalina Lauraine         Active   \n",
      "1            2           Level 2  Idalina Lauraine         Active   \n",
      "2            3           Level 2  Idalina Lauraine         Active   \n",
      "3            4           Level 2  Idalina Lauraine         Active   \n",
      "4            5           Level 1     Abagail Druci         Active   \n",
      "\n",
      "   Total Hours  Total Available Hours  Work Hours  Leave Hours  \\\n",
      "0         2088                 1802.0       636.0        216.0   \n",
      "1         2088                 1882.0       555.5        156.0   \n",
      "2         2088                 1898.5      1004.5        144.0   \n",
      "3         2088                 1851.0       273.0        208.0   \n",
      "4         1312                 1205.0       149.0        104.0   \n",
      "\n",
      "   Training Hours  BD Hours  NC Hours Utilization%  \n",
      "0            70.0    1192.0      56.0     0.352941  \n",
      "1            50.0     694.0     734.0     0.295165  \n",
      "2            45.5     507.0     549.5     0.529102  \n",
      "3            29.0    1382.0     255.0     0.147488  \n",
      "4             3.0    1159.0     818.0     0.123651  \n"
     ]
    }
   ],
   "source": [
    "df.rename(columns={'Employee Number':'Employee No'},inplace=True)\n",
    "print(df.head())\n"
   ]
  },
  {
   "cell_type": "code",
   "execution_count": 4,
   "id": "acf403c0",
   "metadata": {},
   "outputs": [
    {
     "name": "stdout",
     "output_type": "stream",
     "text": [
      "NO.of Records :  789\n",
      "NO.of Columns :  12\n",
      "Index(['Employee No', 'Employee Position', 'Supervisor name', 'Current Status',\n",
      "       'Total Hours', 'Total Available Hours', 'Work Hours', 'Leave Hours',\n",
      "       'Training Hours', 'BD Hours', 'NC Hours', 'Utilization%'],\n",
      "      dtype='object')\n"
     ]
    }
   ],
   "source": [
    "print(\"NO.of Records : \",df.shape[0])\n",
    "\n",
    "print(\"NO.of Columns : \",df.shape[1])\n",
    "\n",
    "print(df.columns)"
   ]
  },
  {
   "cell_type": "code",
   "execution_count": 5,
   "id": "64cfa9ab",
   "metadata": {
    "scrolled": true
   },
   "outputs": [
    {
     "name": "stdout",
     "output_type": "stream",
     "text": [
      "<class 'pandas.core.frame.DataFrame'>\n",
      "RangeIndex: 789 entries, 0 to 788\n",
      "Data columns (total 12 columns):\n",
      " #   Column                 Non-Null Count  Dtype  \n",
      "---  ------                 --------------  -----  \n",
      " 0   Employee No            789 non-null    int64  \n",
      " 1   Employee Position      789 non-null    object \n",
      " 2   Supervisor name        789 non-null    object \n",
      " 3   Current Status         789 non-null    object \n",
      " 4   Total Hours            789 non-null    int64  \n",
      " 5   Total Available Hours  789 non-null    float64\n",
      " 6   Work Hours             789 non-null    float64\n",
      " 7   Leave Hours            789 non-null    float64\n",
      " 8   Training Hours         789 non-null    float64\n",
      " 9   BD Hours               789 non-null    float64\n",
      " 10  NC Hours               789 non-null    float64\n",
      " 11  Utilization%           789 non-null    object \n",
      "dtypes: float64(6), int64(2), object(4)\n",
      "memory usage: 74.1+ KB\n"
     ]
    }
   ],
   "source": [
    "df.info()"
   ]
  },
  {
   "cell_type": "code",
   "execution_count": 6,
   "id": "cde668d2",
   "metadata": {
    "scrolled": false
   },
   "outputs": [
    {
     "data": {
      "text/html": [
       "<div>\n",
       "<style scoped>\n",
       "    .dataframe tbody tr th:only-of-type {\n",
       "        vertical-align: middle;\n",
       "    }\n",
       "\n",
       "    .dataframe tbody tr th {\n",
       "        vertical-align: top;\n",
       "    }\n",
       "\n",
       "    .dataframe thead th {\n",
       "        text-align: right;\n",
       "    }\n",
       "</style>\n",
       "<table border=\"1\" class=\"dataframe\">\n",
       "  <thead>\n",
       "    <tr style=\"text-align: right;\">\n",
       "      <th></th>\n",
       "      <th>Employee No</th>\n",
       "      <th>Total Hours</th>\n",
       "      <th>Total Available Hours</th>\n",
       "      <th>Work Hours</th>\n",
       "      <th>Leave Hours</th>\n",
       "      <th>Training Hours</th>\n",
       "      <th>BD Hours</th>\n",
       "      <th>NC Hours</th>\n",
       "    </tr>\n",
       "  </thead>\n",
       "  <tbody>\n",
       "    <tr>\n",
       "      <th>count</th>\n",
       "      <td>789.000000</td>\n",
       "      <td>789.000000</td>\n",
       "      <td>789.00000</td>\n",
       "      <td>789.000000</td>\n",
       "      <td>789.000000</td>\n",
       "      <td>789.000000</td>\n",
       "      <td>789.000000</td>\n",
       "      <td>789.000000</td>\n",
       "    </tr>\n",
       "    <tr>\n",
       "      <th>mean</th>\n",
       "      <td>395.000000</td>\n",
       "      <td>1671.249683</td>\n",
       "      <td>1457.54071</td>\n",
       "      <td>1068.146185</td>\n",
       "      <td>181.152725</td>\n",
       "      <td>32.852826</td>\n",
       "      <td>77.335868</td>\n",
       "      <td>399.150355</td>\n",
       "    </tr>\n",
       "    <tr>\n",
       "      <th>std</th>\n",
       "      <td>227.908973</td>\n",
       "      <td>636.789604</td>\n",
       "      <td>575.80742</td>\n",
       "      <td>637.485039</td>\n",
       "      <td>163.632969</td>\n",
       "      <td>33.670871</td>\n",
       "      <td>268.656612</td>\n",
       "      <td>379.930230</td>\n",
       "    </tr>\n",
       "    <tr>\n",
       "      <th>min</th>\n",
       "      <td>1.000000</td>\n",
       "      <td>0.000000</td>\n",
       "      <td>0.00000</td>\n",
       "      <td>0.000000</td>\n",
       "      <td>0.000000</td>\n",
       "      <td>-11.000000</td>\n",
       "      <td>-24.000000</td>\n",
       "      <td>-28.500000</td>\n",
       "    </tr>\n",
       "    <tr>\n",
       "      <th>25%</th>\n",
       "      <td>198.000000</td>\n",
       "      <td>1480.000000</td>\n",
       "      <td>1216.00000</td>\n",
       "      <td>493.000000</td>\n",
       "      <td>104.000000</td>\n",
       "      <td>5.660000</td>\n",
       "      <td>0.000000</td>\n",
       "      <td>120.000000</td>\n",
       "    </tr>\n",
       "    <tr>\n",
       "      <th>50%</th>\n",
       "      <td>395.000000</td>\n",
       "      <td>2088.000000</td>\n",
       "      <td>1762.00000</td>\n",
       "      <td>1176.000000</td>\n",
       "      <td>168.000000</td>\n",
       "      <td>22.500000</td>\n",
       "      <td>0.000000</td>\n",
       "      <td>297.000000</td>\n",
       "    </tr>\n",
       "    <tr>\n",
       "      <th>75%</th>\n",
       "      <td>592.000000</td>\n",
       "      <td>2088.000000</td>\n",
       "      <td>1860.00000</td>\n",
       "      <td>1631.000000</td>\n",
       "      <td>227.000000</td>\n",
       "      <td>50.000000</td>\n",
       "      <td>0.000000</td>\n",
       "      <td>563.500000</td>\n",
       "    </tr>\n",
       "    <tr>\n",
       "      <th>max</th>\n",
       "      <td>789.000000</td>\n",
       "      <td>2088.000000</td>\n",
       "      <td>2088.00000</td>\n",
       "      <td>2413.000000</td>\n",
       "      <td>1576.000000</td>\n",
       "      <td>169.000000</td>\n",
       "      <td>1876.000000</td>\n",
       "      <td>2458.500000</td>\n",
       "    </tr>\n",
       "  </tbody>\n",
       "</table>\n",
       "</div>"
      ],
      "text/plain": [
       "       Employee No  Total Hours  Total Available Hours   Work Hours  \\\n",
       "count   789.000000   789.000000              789.00000   789.000000   \n",
       "mean    395.000000  1671.249683             1457.54071  1068.146185   \n",
       "std     227.908973   636.789604              575.80742   637.485039   \n",
       "min       1.000000     0.000000                0.00000     0.000000   \n",
       "25%     198.000000  1480.000000             1216.00000   493.000000   \n",
       "50%     395.000000  2088.000000             1762.00000  1176.000000   \n",
       "75%     592.000000  2088.000000             1860.00000  1631.000000   \n",
       "max     789.000000  2088.000000             2088.00000  2413.000000   \n",
       "\n",
       "       Leave Hours  Training Hours     BD Hours     NC Hours  \n",
       "count   789.000000      789.000000   789.000000   789.000000  \n",
       "mean    181.152725       32.852826    77.335868   399.150355  \n",
       "std     163.632969       33.670871   268.656612   379.930230  \n",
       "min       0.000000      -11.000000   -24.000000   -28.500000  \n",
       "25%     104.000000        5.660000     0.000000   120.000000  \n",
       "50%     168.000000       22.500000     0.000000   297.000000  \n",
       "75%     227.000000       50.000000     0.000000   563.500000  \n",
       "max    1576.000000      169.000000  1876.000000  2458.500000  "
      ]
     },
     "execution_count": 6,
     "metadata": {},
     "output_type": "execute_result"
    }
   ],
   "source": [
    "df.describe()"
   ]
  },
  {
   "cell_type": "markdown",
   "id": "d12fa6ea",
   "metadata": {},
   "source": [
    "# Data Preparation "
   ]
  },
  {
   "cell_type": "markdown",
   "id": "bce2e77b",
   "metadata": {},
   "source": [
    "1. check missing values"
   ]
  },
  {
   "cell_type": "code",
   "execution_count": 7,
   "id": "9c1d7225",
   "metadata": {},
   "outputs": [
    {
     "data": {
      "text/plain": [
       "Employee No              0\n",
       "Employee Position        0\n",
       "Supervisor name          0\n",
       "Current Status           0\n",
       "Total Hours              0\n",
       "Total Available Hours    0\n",
       "Work Hours               0\n",
       "Leave Hours              0\n",
       "Training Hours           0\n",
       "BD Hours                 0\n",
       "NC Hours                 0\n",
       "Utilization%             0\n",
       "dtype: int64"
      ]
     },
     "execution_count": 7,
     "metadata": {},
     "output_type": "execute_result"
    }
   ],
   "source": [
    "df.isnull().sum()\n",
    "# no null values in data set"
   ]
  },
  {
   "cell_type": "code",
   "execution_count": 8,
   "id": "b17ae9d8",
   "metadata": {
    "scrolled": false
   },
   "outputs": [
    {
     "data": {
      "text/plain": [
       "Current Status             4\n",
       "Employee Position         12\n",
       "Leave Hours              116\n",
       "Supervisor name          118\n",
       "BD Hours                 120\n",
       "Total Hours              130\n",
       "Training Hours           223\n",
       "NC Hours                 549\n",
       "Total Available Hours    577\n",
       "Work Hours               602\n",
       "Utilization%             740\n",
       "Employee No              789\n",
       "dtype: int64"
      ]
     },
     "execution_count": 8,
     "metadata": {},
     "output_type": "execute_result"
    }
   ],
   "source": [
    "#checking the categorical and continuous columns\n",
    "df.nunique().sort_values()"
   ]
  },
  {
   "cell_type": "code",
   "execution_count": 9,
   "id": "00011c2b",
   "metadata": {
    "scrolled": true
   },
   "outputs": [
    {
     "name": "stdout",
     "output_type": "stream",
     "text": [
      "Index(['Employee No', 'Employee Position', 'Supervisor name', 'Current Status',\n",
      "       'Total Hours', 'Total Available Hours', 'Work Hours', 'Leave Hours',\n",
      "       'Training Hours', 'BD Hours', 'NC Hours', 'Utilization%'],\n",
      "      dtype='object')\n"
     ]
    }
   ],
   "source": [
    "# check data file\n",
    "print(df.columns)"
   ]
  },
  {
   "cell_type": "markdown",
   "id": "8d177db2",
   "metadata": {},
   "source": [
    "convert categorical data into number format"
   ]
  },
  {
   "cell_type": "code",
   "execution_count": 10,
   "id": "f1d1cefc",
   "metadata": {},
   "outputs": [
    {
     "data": {
      "text/plain": [
       "0    648\n",
       "1    141\n",
       "Name: Current Status, dtype: int64"
      ]
     },
     "execution_count": 10,
     "metadata": {},
     "output_type": "execute_result"
    }
   ],
   "source": [
    "# current status\n",
    "# Active = 0\n",
    "# Resigned = 1\n",
    "# Secondment = 0\n",
    "#New Joiner = 0\n",
    "#Sabbatical = 0\n",
    "var_update = 'Current Status'\n",
    "df[var_update].value_counts()\n",
    "\n",
    "# Current Status\n",
    "df[var_update].replace({\"Active\":0, \"Resigned\":1, \"Secondment\":0, \"Sabbatical\":0, \"New Joiner\" : 0, \n",
    "                             }, inplace = True)\n",
    "\n",
    "df[var_update].value_counts()\n"
   ]
  },
  {
   "cell_type": "code",
   "execution_count": 11,
   "id": "d30cb6ea",
   "metadata": {},
   "outputs": [
    {
     "data": {
      "text/plain": [
       "Level 7     270\n",
       "Level 8     210\n",
       "Level 6     154\n",
       "Level 5      80\n",
       "Level 4      37\n",
       "Level 3      20\n",
       "Level 2       9\n",
       "Level A3      3\n",
       "Level A2      3\n",
       "Level 1       1\n",
       "Level A1      1\n",
       "Level 10      1\n",
       "Name: Employee Position, dtype: int64"
      ]
     },
     "execution_count": 11,
     "metadata": {},
     "output_type": "execute_result"
    }
   ],
   "source": [
    "var_update = 'Employee Position'\n",
    "df[var_update].value_counts() # To check the unique categories of the variable\n"
   ]
  },
  {
   "cell_type": "code",
   "execution_count": 12,
   "id": "f880f932",
   "metadata": {},
   "outputs": [
    {
     "data": {
      "text/plain": [
       "7     270\n",
       "8     210\n",
       "6     154\n",
       "5      80\n",
       "4      37\n",
       "3      20\n",
       "2       9\n",
       "12      3\n",
       "13      3\n",
       "1       1\n",
       "10      1\n",
       "11      1\n",
       "Name: Employee Position, dtype: int64"
      ]
     },
     "execution_count": 12,
     "metadata": {},
     "output_type": "execute_result"
    }
   ],
   "source": [
    "df[var_update].replace({\"Level 1\":1, \"Level 2\":2, \"Level 3\":3, \"Level 4\":4,\n",
    "                             \"Level 5\":5, \"Level 6\":6, \"Level 7\":7, \"Level 8\":8,\"Level 10\":10,\n",
    "                             \"Level A1\":11, \"Level A2\":12, \"Level A3\":13}, inplace = True)\n",
    "df[var_update].value_counts()"
   ]
  },
  {
   "cell_type": "markdown",
   "id": "b5721b6c",
   "metadata": {},
   "source": [
    "Hot Encoding"
   ]
  },
  {
   "cell_type": "code",
   "execution_count": 13,
   "id": "a64462cd",
   "metadata": {},
   "outputs": [
    {
     "data": {
      "text/plain": [
       "118"
      ]
     },
     "execution_count": 13,
     "metadata": {},
     "output_type": "execute_result"
    }
   ],
   "source": [
    "len(df['Supervisor name'].unique())"
   ]
  },
  {
   "cell_type": "code",
   "execution_count": 14,
   "id": "d76ea871",
   "metadata": {},
   "outputs": [],
   "source": [
    "# encoding 'Supervisor name' using count/frequency encoding\n",
    "sv_name1 = df['Supervisor name'].value_counts().to_dict()\n",
    "df['Supervisor name'] = df['Supervisor name'].map(sv_name1)\n"
   ]
  },
  {
   "cell_type": "code",
   "execution_count": 15,
   "id": "c8c46f4d",
   "metadata": {},
   "outputs": [
    {
     "data": {
      "text/plain": [
       "8     120\n",
       "7     119\n",
       "6      96\n",
       "12     72\n",
       "14     70\n",
       "11     55\n",
       "9      54\n",
       "10     50\n",
       "5      45\n",
       "18     36\n",
       "3      27\n",
       "4      20\n",
       "2      14\n",
       "1      11\n",
       "Name: Supervisor name, dtype: int64"
      ]
     },
     "execution_count": 15,
     "metadata": {},
     "output_type": "execute_result"
    }
   ],
   "source": [
    "df['Supervisor name'].value_counts()"
   ]
  },
  {
   "cell_type": "code",
   "execution_count": 16,
   "id": "a153be1b",
   "metadata": {
    "scrolled": false
   },
   "outputs": [
    {
     "name": "stdout",
     "output_type": "stream",
     "text": [
      "<class 'pandas.core.frame.DataFrame'>\n",
      "RangeIndex: 789 entries, 0 to 788\n",
      "Data columns (total 12 columns):\n",
      " #   Column                 Non-Null Count  Dtype  \n",
      "---  ------                 --------------  -----  \n",
      " 0   Employee No            789 non-null    int64  \n",
      " 1   Employee Position      789 non-null    int64  \n",
      " 2   Supervisor name        789 non-null    int64  \n",
      " 3   Current Status         789 non-null    int64  \n",
      " 4   Total Hours            789 non-null    int64  \n",
      " 5   Total Available Hours  789 non-null    float64\n",
      " 6   Work Hours             789 non-null    float64\n",
      " 7   Leave Hours            789 non-null    float64\n",
      " 8   Training Hours         789 non-null    float64\n",
      " 9   BD Hours               789 non-null    float64\n",
      " 10  NC Hours               789 non-null    float64\n",
      " 11  Utilization%           789 non-null    object \n",
      "dtypes: float64(6), int64(5), object(1)\n",
      "memory usage: 74.1+ KB\n"
     ]
    }
   ],
   "source": [
    "df.info()"
   ]
  },
  {
   "cell_type": "code",
   "execution_count": 17,
   "id": "9ce0332c",
   "metadata": {},
   "outputs": [
    {
     "data": {
      "text/html": [
       "<div>\n",
       "<style scoped>\n",
       "    .dataframe tbody tr th:only-of-type {\n",
       "        vertical-align: middle;\n",
       "    }\n",
       "\n",
       "    .dataframe tbody tr th {\n",
       "        vertical-align: top;\n",
       "    }\n",
       "\n",
       "    .dataframe thead th {\n",
       "        text-align: right;\n",
       "    }\n",
       "</style>\n",
       "<table border=\"1\" class=\"dataframe\">\n",
       "  <thead>\n",
       "    <tr style=\"text-align: right;\">\n",
       "      <th></th>\n",
       "      <th>Employee No</th>\n",
       "      <th>Employee Position</th>\n",
       "      <th>Supervisor name</th>\n",
       "      <th>Current Status</th>\n",
       "      <th>Total Hours</th>\n",
       "      <th>Total Available Hours</th>\n",
       "      <th>Work Hours</th>\n",
       "      <th>Leave Hours</th>\n",
       "      <th>Training Hours</th>\n",
       "      <th>BD Hours</th>\n",
       "      <th>NC Hours</th>\n",
       "      <th>Utilization%</th>\n",
       "    </tr>\n",
       "  </thead>\n",
       "  <tbody>\n",
       "    <tr>\n",
       "      <th>0</th>\n",
       "      <td>1</td>\n",
       "      <td>2</td>\n",
       "      <td>8</td>\n",
       "      <td>0</td>\n",
       "      <td>2088</td>\n",
       "      <td>1802.0</td>\n",
       "      <td>636.0</td>\n",
       "      <td>216.0</td>\n",
       "      <td>70.0</td>\n",
       "      <td>1192.0</td>\n",
       "      <td>56.0</td>\n",
       "      <td>0.352941</td>\n",
       "    </tr>\n",
       "    <tr>\n",
       "      <th>1</th>\n",
       "      <td>2</td>\n",
       "      <td>2</td>\n",
       "      <td>8</td>\n",
       "      <td>0</td>\n",
       "      <td>2088</td>\n",
       "      <td>1882.0</td>\n",
       "      <td>555.5</td>\n",
       "      <td>156.0</td>\n",
       "      <td>50.0</td>\n",
       "      <td>694.0</td>\n",
       "      <td>734.0</td>\n",
       "      <td>0.295165</td>\n",
       "    </tr>\n",
       "    <tr>\n",
       "      <th>2</th>\n",
       "      <td>3</td>\n",
       "      <td>2</td>\n",
       "      <td>8</td>\n",
       "      <td>0</td>\n",
       "      <td>2088</td>\n",
       "      <td>1898.5</td>\n",
       "      <td>1004.5</td>\n",
       "      <td>144.0</td>\n",
       "      <td>45.5</td>\n",
       "      <td>507.0</td>\n",
       "      <td>549.5</td>\n",
       "      <td>0.529102</td>\n",
       "    </tr>\n",
       "    <tr>\n",
       "      <th>3</th>\n",
       "      <td>4</td>\n",
       "      <td>2</td>\n",
       "      <td>8</td>\n",
       "      <td>0</td>\n",
       "      <td>2088</td>\n",
       "      <td>1851.0</td>\n",
       "      <td>273.0</td>\n",
       "      <td>208.0</td>\n",
       "      <td>29.0</td>\n",
       "      <td>1382.0</td>\n",
       "      <td>255.0</td>\n",
       "      <td>0.147488</td>\n",
       "    </tr>\n",
       "    <tr>\n",
       "      <th>4</th>\n",
       "      <td>5</td>\n",
       "      <td>1</td>\n",
       "      <td>1</td>\n",
       "      <td>0</td>\n",
       "      <td>1312</td>\n",
       "      <td>1205.0</td>\n",
       "      <td>149.0</td>\n",
       "      <td>104.0</td>\n",
       "      <td>3.0</td>\n",
       "      <td>1159.0</td>\n",
       "      <td>818.0</td>\n",
       "      <td>0.123651</td>\n",
       "    </tr>\n",
       "  </tbody>\n",
       "</table>\n",
       "</div>"
      ],
      "text/plain": [
       "   Employee No  Employee Position  Supervisor name  Current Status  \\\n",
       "0            1                  2                8               0   \n",
       "1            2                  2                8               0   \n",
       "2            3                  2                8               0   \n",
       "3            4                  2                8               0   \n",
       "4            5                  1                1               0   \n",
       "\n",
       "   Total Hours  Total Available Hours  Work Hours  Leave Hours  \\\n",
       "0         2088                 1802.0       636.0        216.0   \n",
       "1         2088                 1882.0       555.5        156.0   \n",
       "2         2088                 1898.5      1004.5        144.0   \n",
       "3         2088                 1851.0       273.0        208.0   \n",
       "4         1312                 1205.0       149.0        104.0   \n",
       "\n",
       "   Training Hours  BD Hours  NC Hours Utilization%  \n",
       "0            70.0    1192.0      56.0     0.352941  \n",
       "1            50.0     694.0     734.0     0.295165  \n",
       "2            45.5     507.0     549.5     0.529102  \n",
       "3            29.0    1382.0     255.0     0.147488  \n",
       "4             3.0    1159.0     818.0     0.123651  "
      ]
     },
     "execution_count": 17,
     "metadata": {},
     "output_type": "execute_result"
    }
   ],
   "source": [
    "df.describe()\n",
    "df.head()"
   ]
  },
  {
   "cell_type": "code",
   "execution_count": 18,
   "id": "4630aada",
   "metadata": {
    "scrolled": true
   },
   "outputs": [
    {
     "name": "stdout",
     "output_type": "stream",
     "text": [
      "Employee No                int64\n",
      "Employee Position          int64\n",
      "Supervisor name            int64\n",
      "Current Status             int64\n",
      "Total Hours                int64\n",
      "Total Available Hours    float64\n",
      "Work Hours               float64\n",
      "Leave Hours              float64\n",
      "Training Hours           float64\n",
      "BD Hours                 float64\n",
      "NC Hours                 float64\n",
      "Utilization%              object\n",
      "dtype: object\n"
     ]
    }
   ],
   "source": [
    "print(df.dtypes)"
   ]
  },
  {
   "cell_type": "code",
   "execution_count": 19,
   "id": "21486a4c",
   "metadata": {},
   "outputs": [],
   "source": [
    "df['Utilization%'] = pd.to_numeric(df['Utilization%'], errors = 'coerce')"
   ]
  },
  {
   "cell_type": "markdown",
   "id": "1e780f7a",
   "metadata": {},
   "source": [
    "# Check for outliers"
   ]
  },
  {
   "cell_type": "code",
   "execution_count": 20,
   "id": "e8dab910",
   "metadata": {},
   "outputs": [
    {
     "data": {
      "image/png": "[encoded data removed]",
      "text/plain": [
       "<Figure size 1080x1080 with 11 Axes>"
      ]
     },
     "metadata": {
      "needs_background": "light"
     },
     "output_type": "display_data"
    }
   ],
   "source": [
    "import seaborn as sns\n",
    "\n",
    "int_cols=list(df.select_dtypes(['int64','float64']).columns)\n",
    "\n",
    "\n",
    "plt.figure(figsize=(15,15))\n",
    "for j in range(1,len(int_cols)):\n",
    "    plt.subplot(3,4,j)\n",
    "    sns.boxplot(df[int_cols[j]])\n",
    "       "
   ]
  },
  {
   "cell_type": "markdown",
   "id": "3ed37eb1",
   "metadata": {},
   "source": [
    "#### Dummy Variable Creation"
   ]
  },
  {
   "cell_type": "code",
   "execution_count": 21,
   "id": "6094e434",
   "metadata": {},
   "outputs": [],
   "source": [
    "df1=pd.get_dummies(df)"
   ]
  },
  {
   "cell_type": "code",
   "execution_count": 22,
   "id": "6db2c508",
   "metadata": {},
   "outputs": [
    {
     "data": {
      "text/html": [
       "<div>\n",
       "<style scoped>\n",
       "    .dataframe tbody tr th:only-of-type {\n",
       "        vertical-align: middle;\n",
       "    }\n",
       "\n",
       "    .dataframe tbody tr th {\n",
       "        vertical-align: top;\n",
       "    }\n",
       "\n",
       "    .dataframe thead th {\n",
       "        text-align: right;\n",
       "    }\n",
       "</style>\n",
       "<table border=\"1\" class=\"dataframe\">\n",
       "  <thead>\n",
       "    <tr style=\"text-align: right;\">\n",
       "      <th></th>\n",
       "      <th>Employee No</th>\n",
       "      <th>Employee Position</th>\n",
       "      <th>Supervisor name</th>\n",
       "      <th>Current Status</th>\n",
       "      <th>Total Hours</th>\n",
       "      <th>Total Available Hours</th>\n",
       "      <th>Work Hours</th>\n",
       "      <th>Leave Hours</th>\n",
       "      <th>Training Hours</th>\n",
       "      <th>BD Hours</th>\n",
       "      <th>NC Hours</th>\n",
       "      <th>Utilization%</th>\n",
       "    </tr>\n",
       "  </thead>\n",
       "  <tbody>\n",
       "    <tr>\n",
       "      <th>0</th>\n",
       "      <td>1</td>\n",
       "      <td>2</td>\n",
       "      <td>8</td>\n",
       "      <td>0</td>\n",
       "      <td>2088</td>\n",
       "      <td>1802.0</td>\n",
       "      <td>636.0</td>\n",
       "      <td>216.0</td>\n",
       "      <td>70.0</td>\n",
       "      <td>1192.0</td>\n",
       "      <td>56.0</td>\n",
       "      <td>0.352941</td>\n",
       "    </tr>\n",
       "    <tr>\n",
       "      <th>1</th>\n",
       "      <td>2</td>\n",
       "      <td>2</td>\n",
       "      <td>8</td>\n",
       "      <td>0</td>\n",
       "      <td>2088</td>\n",
       "      <td>1882.0</td>\n",
       "      <td>555.5</td>\n",
       "      <td>156.0</td>\n",
       "      <td>50.0</td>\n",
       "      <td>694.0</td>\n",
       "      <td>734.0</td>\n",
       "      <td>0.295165</td>\n",
       "    </tr>\n",
       "    <tr>\n",
       "      <th>2</th>\n",
       "      <td>3</td>\n",
       "      <td>2</td>\n",
       "      <td>8</td>\n",
       "      <td>0</td>\n",
       "      <td>2088</td>\n",
       "      <td>1898.5</td>\n",
       "      <td>1004.5</td>\n",
       "      <td>144.0</td>\n",
       "      <td>45.5</td>\n",
       "      <td>507.0</td>\n",
       "      <td>549.5</td>\n",
       "      <td>0.529102</td>\n",
       "    </tr>\n",
       "    <tr>\n",
       "      <th>3</th>\n",
       "      <td>4</td>\n",
       "      <td>2</td>\n",
       "      <td>8</td>\n",
       "      <td>0</td>\n",
       "      <td>2088</td>\n",
       "      <td>1851.0</td>\n",
       "      <td>273.0</td>\n",
       "      <td>208.0</td>\n",
       "      <td>29.0</td>\n",
       "      <td>1382.0</td>\n",
       "      <td>255.0</td>\n",
       "      <td>0.147488</td>\n",
       "    </tr>\n",
       "    <tr>\n",
       "      <th>4</th>\n",
       "      <td>5</td>\n",
       "      <td>1</td>\n",
       "      <td>1</td>\n",
       "      <td>0</td>\n",
       "      <td>1312</td>\n",
       "      <td>1205.0</td>\n",
       "      <td>149.0</td>\n",
       "      <td>104.0</td>\n",
       "      <td>3.0</td>\n",
       "      <td>1159.0</td>\n",
       "      <td>818.0</td>\n",
       "      <td>0.123651</td>\n",
       "    </tr>\n",
       "    <tr>\n",
       "      <th>...</th>\n",
       "      <td>...</td>\n",
       "      <td>...</td>\n",
       "      <td>...</td>\n",
       "      <td>...</td>\n",
       "      <td>...</td>\n",
       "      <td>...</td>\n",
       "      <td>...</td>\n",
       "      <td>...</td>\n",
       "      <td>...</td>\n",
       "      <td>...</td>\n",
       "      <td>...</td>\n",
       "      <td>...</td>\n",
       "    </tr>\n",
       "    <tr>\n",
       "      <th>784</th>\n",
       "      <td>785</td>\n",
       "      <td>8</td>\n",
       "      <td>18</td>\n",
       "      <td>0</td>\n",
       "      <td>80</td>\n",
       "      <td>32.0</td>\n",
       "      <td>32.0</td>\n",
       "      <td>8.0</td>\n",
       "      <td>40.0</td>\n",
       "      <td>0.0</td>\n",
       "      <td>0.0</td>\n",
       "      <td>1.000000</td>\n",
       "    </tr>\n",
       "    <tr>\n",
       "      <th>785</th>\n",
       "      <td>786</td>\n",
       "      <td>8</td>\n",
       "      <td>8</td>\n",
       "      <td>0</td>\n",
       "      <td>80</td>\n",
       "      <td>40.0</td>\n",
       "      <td>0.0</td>\n",
       "      <td>0.0</td>\n",
       "      <td>40.0</td>\n",
       "      <td>0.0</td>\n",
       "      <td>40.0</td>\n",
       "      <td>0.000000</td>\n",
       "    </tr>\n",
       "    <tr>\n",
       "      <th>786</th>\n",
       "      <td>787</td>\n",
       "      <td>8</td>\n",
       "      <td>9</td>\n",
       "      <td>0</td>\n",
       "      <td>80</td>\n",
       "      <td>72.0</td>\n",
       "      <td>0.0</td>\n",
       "      <td>0.0</td>\n",
       "      <td>8.0</td>\n",
       "      <td>0.0</td>\n",
       "      <td>72.0</td>\n",
       "      <td>0.000000</td>\n",
       "    </tr>\n",
       "    <tr>\n",
       "      <th>787</th>\n",
       "      <td>788</td>\n",
       "      <td>7</td>\n",
       "      <td>11</td>\n",
       "      <td>0</td>\n",
       "      <td>40</td>\n",
       "      <td>32.0</td>\n",
       "      <td>0.0</td>\n",
       "      <td>8.0</td>\n",
       "      <td>0.0</td>\n",
       "      <td>0.0</td>\n",
       "      <td>32.0</td>\n",
       "      <td>0.000000</td>\n",
       "    </tr>\n",
       "    <tr>\n",
       "      <th>788</th>\n",
       "      <td>789</td>\n",
       "      <td>7</td>\n",
       "      <td>5</td>\n",
       "      <td>0</td>\n",
       "      <td>40</td>\n",
       "      <td>18.0</td>\n",
       "      <td>0.0</td>\n",
       "      <td>8.0</td>\n",
       "      <td>14.0</td>\n",
       "      <td>0.0</td>\n",
       "      <td>18.0</td>\n",
       "      <td>0.000000</td>\n",
       "    </tr>\n",
       "  </tbody>\n",
       "</table>\n",
       "<p>789 rows × 12 columns</p>\n",
       "</div>"
      ],
      "text/plain": [
       "     Employee No  Employee Position  Supervisor name  Current Status  \\\n",
       "0              1                  2                8               0   \n",
       "1              2                  2                8               0   \n",
       "2              3                  2                8               0   \n",
       "3              4                  2                8               0   \n",
       "4              5                  1                1               0   \n",
       "..           ...                ...              ...             ...   \n",
       "784          785                  8               18               0   \n",
       "785          786                  8                8               0   \n",
       "786          787                  8                9               0   \n",
       "787          788                  7               11               0   \n",
       "788          789                  7                5               0   \n",
       "\n",
       "     Total Hours  Total Available Hours  Work Hours  Leave Hours  \\\n",
       "0           2088                 1802.0       636.0        216.0   \n",
       "1           2088                 1882.0       555.5        156.0   \n",
       "2           2088                 1898.5      1004.5        144.0   \n",
       "3           2088                 1851.0       273.0        208.0   \n",
       "4           1312                 1205.0       149.0        104.0   \n",
       "..           ...                    ...         ...          ...   \n",
       "784           80                   32.0        32.0          8.0   \n",
       "785           80                   40.0         0.0          0.0   \n",
       "786           80                   72.0         0.0          0.0   \n",
       "787           40                   32.0         0.0          8.0   \n",
       "788           40                   18.0         0.0          8.0   \n",
       "\n",
       "     Training Hours  BD Hours  NC Hours  Utilization%  \n",
       "0              70.0    1192.0      56.0      0.352941  \n",
       "1              50.0     694.0     734.0      0.295165  \n",
       "2              45.5     507.0     549.5      0.529102  \n",
       "3              29.0    1382.0     255.0      0.147488  \n",
       "4               3.0    1159.0     818.0      0.123651  \n",
       "..              ...       ...       ...           ...  \n",
       "784            40.0       0.0       0.0      1.000000  \n",
       "785            40.0       0.0      40.0      0.000000  \n",
       "786             8.0       0.0      72.0      0.000000  \n",
       "787             0.0       0.0      32.0      0.000000  \n",
       "788            14.0       0.0      18.0      0.000000  \n",
       "\n",
       "[789 rows x 12 columns]"
      ]
     },
     "execution_count": 22,
     "metadata": {},
     "output_type": "execute_result"
    }
   ],
   "source": [
    "df1"
   ]
  },
  {
   "cell_type": "code",
   "execution_count": 23,
   "id": "2a5bd96a",
   "metadata": {},
   "outputs": [],
   "source": [
    "depVar = \"Current Status\"\n",
    "trainX = df1.drop([depVar], axis = 1).copy()\n",
    "trainY = df1[depVar].copy()\n"
   ]
  },
  {
   "cell_type": "code",
   "execution_count": 24,
   "id": "66de714d",
   "metadata": {},
   "outputs": [
    {
     "name": "stdout",
     "output_type": "stream",
     "text": [
      "<class 'pandas.core.frame.DataFrame'>\n",
      "RangeIndex: 789 entries, 0 to 788\n",
      "Data columns (total 11 columns):\n",
      " #   Column                 Non-Null Count  Dtype  \n",
      "---  ------                 --------------  -----  \n",
      " 0   Employee No            789 non-null    int64  \n",
      " 1   Employee Position      789 non-null    int64  \n",
      " 2   Supervisor name        789 non-null    int64  \n",
      " 3   Total Hours            789 non-null    int64  \n",
      " 4   Total Available Hours  789 non-null    float64\n",
      " 5   Work Hours             789 non-null    float64\n",
      " 6   Leave Hours            789 non-null    float64\n",
      " 7   Training Hours         789 non-null    float64\n",
      " 8   BD Hours               789 non-null    float64\n",
      " 9   NC Hours               789 non-null    float64\n",
      " 10  Utilization%           788 non-null    float64\n",
      "dtypes: float64(7), int64(4)\n",
      "memory usage: 67.9 KB\n"
     ]
    }
   ],
   "source": [
    "trainX.info()"
   ]
  },
  {
   "cell_type": "code",
   "execution_count": 25,
   "id": "1d12939e",
   "metadata": {},
   "outputs": [
    {
     "data": {
      "text/plain": [
       "(789, 11)"
      ]
     },
     "execution_count": 25,
     "metadata": {},
     "output_type": "execute_result"
    }
   ],
   "source": [
    "trainX.shape"
   ]
  },
  {
   "cell_type": "code",
   "execution_count": 26,
   "id": "989e931c",
   "metadata": {},
   "outputs": [
    {
     "data": {
      "text/plain": [
       "Employee No              0\n",
       "Employee Position        0\n",
       "Supervisor name          0\n",
       "Total Hours              0\n",
       "Total Available Hours    0\n",
       "Work Hours               0\n",
       "Leave Hours              0\n",
       "Training Hours           0\n",
       "BD Hours                 0\n",
       "NC Hours                 0\n",
       "Utilization%             1\n",
       "dtype: int64"
      ]
     },
     "execution_count": 26,
     "metadata": {},
     "output_type": "execute_result"
    }
   ],
   "source": [
    "trainX.isnull().sum()"
   ]
  },
  {
   "cell_type": "markdown",
   "id": "1439152a",
   "metadata": {},
   "source": [
    "#### replace new missing values"
   ]
  },
  {
   "cell_type": "code",
   "execution_count": 27,
   "id": "68682451",
   "metadata": {},
   "outputs": [],
   "source": [
    "temp = trainX[\"Utilization%\"].median()\n",
    "\n",
    "trainX[\"Utilization%\"] = trainX[\"Utilization%\"].fillna(temp)"
   ]
  },
  {
   "cell_type": "code",
   "execution_count": 28,
   "id": "6203d534",
   "metadata": {},
   "outputs": [],
   "source": [
    "M_rf1 = RandomForestClassifier(random_state = 171994).fit(trainX, trainY)"
   ]
  },
  {
   "cell_type": "markdown",
   "id": "97223a13",
   "metadata": {},
   "source": [
    "# import test data set"
   ]
  },
  {
   "cell_type": "code",
   "execution_count": 29,
   "id": "36e5e7b5",
   "metadata": {},
   "outputs": [],
   "source": [
    "df_test=pd.read_excel('D:/My data/Aru/Project/staff utlz latest 17-18_masked_RF.xlsx')"
   ]
  },
  {
   "cell_type": "code",
   "execution_count": 30,
   "id": "9ca38c86",
   "metadata": {},
   "outputs": [
    {
     "name": "stdout",
     "output_type": "stream",
     "text": [
      "   Employee No Employee Position   Supervisor name Current Status  \\\n",
      "0            1           Level 1  Idalina Lauraine         Active   \n",
      "1            2           Level 2  Idalina Lauraine         Active   \n",
      "2            3           Level 2  Idalina Lauraine         Active   \n",
      "3            4           Level 2  Idalina Lauraine       Resigned   \n",
      "4            6           Level 2  Idalina Lauraine         Active   \n",
      "\n",
      "   Total Hours  Total Available Hours  Work Hours  Leave Hours  \\\n",
      "0         2080                 1864.5       448.0          188   \n",
      "1         2080                 1868.0       722.0          208   \n",
      "2         2080                 1720.0      1173.0          338   \n",
      "3         1840                 1640.5       273.0          196   \n",
      "4         2080                 1812.0       428.0          260   \n",
      "\n",
      "   Training Hours  BD Hours  NC Hours Utilization%  \n",
      "0            27.5    1431.5      18.0     0.240279  \n",
      "1             4.0     600.5     596.5      0.38651  \n",
      "2            22.0     463.5     357.5     0.681977  \n",
      "3             3.5    1361.0      24.0     0.166413  \n",
      "4             8.0    1237.0     470.0     0.236203  \n"
     ]
    }
   ],
   "source": [
    "df_test.rename(columns={'Employee Number':'Employee No'},inplace=True)\n",
    "print(df_test.head())\n"
   ]
  },
  {
   "cell_type": "code",
   "execution_count": 31,
   "id": "f02bfcf2",
   "metadata": {},
   "outputs": [
    {
     "name": "stdout",
     "output_type": "stream",
     "text": [
      "NO.of Records :  948\n",
      "NO.of Columns :  12\n",
      "Index(['Employee No', 'Employee Position', 'Supervisor name', 'Current Status',\n",
      "       'Total Hours', 'Total Available Hours', 'Work Hours', 'Leave Hours',\n",
      "       'Training Hours', 'BD Hours', 'NC Hours', 'Utilization%'],\n",
      "      dtype='object')\n"
     ]
    }
   ],
   "source": [
    "print(\"NO.of Records : \",df_test.shape[0])\n",
    "\n",
    "print(\"NO.of Columns : \",df_test.shape[1])\n",
    "\n",
    "print(df_test.columns)"
   ]
  },
  {
   "cell_type": "code",
   "execution_count": 32,
   "id": "021272fd",
   "metadata": {},
   "outputs": [
    {
     "name": "stdout",
     "output_type": "stream",
     "text": [
      "<class 'pandas.core.frame.DataFrame'>\n",
      "RangeIndex: 948 entries, 0 to 947\n",
      "Data columns (total 12 columns):\n",
      " #   Column                 Non-Null Count  Dtype  \n",
      "---  ------                 --------------  -----  \n",
      " 0   Employee No            948 non-null    int64  \n",
      " 1   Employee Position      948 non-null    object \n",
      " 2   Supervisor name        948 non-null    object \n",
      " 3   Current Status         948 non-null    object \n",
      " 4   Total Hours            948 non-null    int64  \n",
      " 5   Total Available Hours  948 non-null    float64\n",
      " 6   Work Hours             948 non-null    float64\n",
      " 7   Leave Hours            948 non-null    int64  \n",
      " 8   Training Hours         948 non-null    float64\n",
      " 9   BD Hours               948 non-null    float64\n",
      " 10  NC Hours               948 non-null    float64\n",
      " 11  Utilization%           948 non-null    object \n",
      "dtypes: float64(5), int64(3), object(4)\n",
      "memory usage: 89.0+ KB\n"
     ]
    }
   ],
   "source": [
    "df_test.info()"
   ]
  },
  {
   "cell_type": "code",
   "execution_count": 33,
   "id": "364a6a82",
   "metadata": {},
   "outputs": [
    {
     "data": {
      "text/html": [
       "<div>\n",
       "<style scoped>\n",
       "    .dataframe tbody tr th:only-of-type {\n",
       "        vertical-align: middle;\n",
       "    }\n",
       "\n",
       "    .dataframe tbody tr th {\n",
       "        vertical-align: top;\n",
       "    }\n",
       "\n",
       "    .dataframe thead th {\n",
       "        text-align: right;\n",
       "    }\n",
       "</style>\n",
       "<table border=\"1\" class=\"dataframe\">\n",
       "  <thead>\n",
       "    <tr style=\"text-align: right;\">\n",
       "      <th></th>\n",
       "      <th>Employee No</th>\n",
       "      <th>Total Hours</th>\n",
       "      <th>Total Available Hours</th>\n",
       "      <th>Work Hours</th>\n",
       "      <th>Leave Hours</th>\n",
       "      <th>Training Hours</th>\n",
       "      <th>BD Hours</th>\n",
       "      <th>NC Hours</th>\n",
       "    </tr>\n",
       "  </thead>\n",
       "  <tbody>\n",
       "    <tr>\n",
       "      <th>count</th>\n",
       "      <td>948.000000</td>\n",
       "      <td>948.000000</td>\n",
       "      <td>948.000000</td>\n",
       "      <td>948.000000</td>\n",
       "      <td>948.000000</td>\n",
       "      <td>948.000000</td>\n",
       "      <td>948.000000</td>\n",
       "      <td>948.000000</td>\n",
       "    </tr>\n",
       "    <tr>\n",
       "      <th>mean</th>\n",
       "      <td>585.970464</td>\n",
       "      <td>1653.291139</td>\n",
       "      <td>1437.158302</td>\n",
       "      <td>1113.778027</td>\n",
       "      <td>188.053797</td>\n",
       "      <td>28.933470</td>\n",
       "      <td>63.572785</td>\n",
       "      <td>338.574736</td>\n",
       "    </tr>\n",
       "    <tr>\n",
       "      <th>std</th>\n",
       "      <td>321.834212</td>\n",
       "      <td>640.615883</td>\n",
       "      <td>576.584288</td>\n",
       "      <td>641.034457</td>\n",
       "      <td>165.207067</td>\n",
       "      <td>29.214842</td>\n",
       "      <td>257.653479</td>\n",
       "      <td>395.049759</td>\n",
       "    </tr>\n",
       "    <tr>\n",
       "      <th>min</th>\n",
       "      <td>1.000000</td>\n",
       "      <td>24.000000</td>\n",
       "      <td>-40.000000</td>\n",
       "      <td>0.000000</td>\n",
       "      <td>0.000000</td>\n",
       "      <td>0.000000</td>\n",
       "      <td>0.000000</td>\n",
       "      <td>-8.000000</td>\n",
       "    </tr>\n",
       "    <tr>\n",
       "      <th>25%</th>\n",
       "      <td>312.250000</td>\n",
       "      <td>1406.000000</td>\n",
       "      <td>1195.750000</td>\n",
       "      <td>584.000000</td>\n",
       "      <td>99.000000</td>\n",
       "      <td>8.000000</td>\n",
       "      <td>0.000000</td>\n",
       "      <td>63.875000</td>\n",
       "    </tr>\n",
       "    <tr>\n",
       "      <th>50%</th>\n",
       "      <td>608.500000</td>\n",
       "      <td>2080.000000</td>\n",
       "      <td>1742.750000</td>\n",
       "      <td>1264.500000</td>\n",
       "      <td>176.000000</td>\n",
       "      <td>23.000000</td>\n",
       "      <td>0.000000</td>\n",
       "      <td>207.500000</td>\n",
       "    </tr>\n",
       "    <tr>\n",
       "      <th>75%</th>\n",
       "      <td>862.250000</td>\n",
       "      <td>2080.000000</td>\n",
       "      <td>1840.000000</td>\n",
       "      <td>1660.500000</td>\n",
       "      <td>248.000000</td>\n",
       "      <td>40.000000</td>\n",
       "      <td>0.000000</td>\n",
       "      <td>456.000000</td>\n",
       "    </tr>\n",
       "    <tr>\n",
       "      <th>max</th>\n",
       "      <td>1111.000000</td>\n",
       "      <td>2080.000000</td>\n",
       "      <td>2080.000000</td>\n",
       "      <td>2669.000000</td>\n",
       "      <td>2080.000000</td>\n",
       "      <td>150.000000</td>\n",
       "      <td>2015.000000</td>\n",
       "      <td>2257.000000</td>\n",
       "    </tr>\n",
       "  </tbody>\n",
       "</table>\n",
       "</div>"
      ],
      "text/plain": [
       "       Employee No  Total Hours  Total Available Hours   Work Hours  \\\n",
       "count   948.000000   948.000000             948.000000   948.000000   \n",
       "mean    585.970464  1653.291139            1437.158302  1113.778027   \n",
       "std     321.834212   640.615883             576.584288   641.034457   \n",
       "min       1.000000    24.000000             -40.000000     0.000000   \n",
       "25%     312.250000  1406.000000            1195.750000   584.000000   \n",
       "50%     608.500000  2080.000000            1742.750000  1264.500000   \n",
       "75%     862.250000  2080.000000            1840.000000  1660.500000   \n",
       "max    1111.000000  2080.000000            2080.000000  2669.000000   \n",
       "\n",
       "       Leave Hours  Training Hours     BD Hours     NC Hours  \n",
       "count   948.000000      948.000000   948.000000   948.000000  \n",
       "mean    188.053797       28.933470    63.572785   338.574736  \n",
       "std     165.207067       29.214842   257.653479   395.049759  \n",
       "min       0.000000        0.000000     0.000000    -8.000000  \n",
       "25%      99.000000        8.000000     0.000000    63.875000  \n",
       "50%     176.000000       23.000000     0.000000   207.500000  \n",
       "75%     248.000000       40.000000     0.000000   456.000000  \n",
       "max    2080.000000      150.000000  2015.000000  2257.000000  "
      ]
     },
     "execution_count": 33,
     "metadata": {},
     "output_type": "execute_result"
    }
   ],
   "source": [
    "df_test.describe()"
   ]
  },
  {
   "cell_type": "code",
   "execution_count": 34,
   "id": "902cce19",
   "metadata": {},
   "outputs": [
    {
     "data": {
      "text/plain": [
       "Employee No              0\n",
       "Employee Position        0\n",
       "Supervisor name          0\n",
       "Current Status           0\n",
       "Total Hours              0\n",
       "Total Available Hours    0\n",
       "Work Hours               0\n",
       "Leave Hours              0\n",
       "Training Hours           0\n",
       "BD Hours                 0\n",
       "NC Hours                 0\n",
       "Utilization%             0\n",
       "dtype: int64"
      ]
     },
     "execution_count": 34,
     "metadata": {},
     "output_type": "execute_result"
    }
   ],
   "source": [
    "# Data Preparation \n",
    "\n",
    "#1. chech missing values\n",
    "\n",
    "df_test.isnull().sum()\n",
    "# no null values in data set\n"
   ]
  },
  {
   "cell_type": "code",
   "execution_count": 35,
   "id": "ada3b928",
   "metadata": {},
   "outputs": [
    {
     "data": {
      "text/plain": [
       "Current Status             5\n",
       "Employee Position         11\n",
       "Total Hours               97\n",
       "BD Hours                 101\n",
       "Leave Hours              133\n",
       "Supervisor name          137\n",
       "Training Hours           226\n",
       "NC Hours                 528\n",
       "Total Available Hours    656\n",
       "Work Hours               690\n",
       "Utilization%             858\n",
       "Employee No              948\n",
       "dtype: int64"
      ]
     },
     "execution_count": 35,
     "metadata": {},
     "output_type": "execute_result"
    }
   ],
   "source": [
    "df_test.nunique().sort_values()"
   ]
  },
  {
   "cell_type": "code",
   "execution_count": 36,
   "id": "c49e492f",
   "metadata": {},
   "outputs": [
    {
     "data": {
      "text/plain": [
       "Current Status             2\n",
       "Employee Position         12\n",
       "Supervisor name           14\n",
       "Leave Hours              116\n",
       "BD Hours                 120\n",
       "Total Hours              130\n",
       "Training Hours           223\n",
       "NC Hours                 549\n",
       "Total Available Hours    577\n",
       "Work Hours               602\n",
       "Utilization%             739\n",
       "Employee No              789\n",
       "dtype: int64"
      ]
     },
     "execution_count": 36,
     "metadata": {},
     "output_type": "execute_result"
    }
   ],
   "source": [
    "df.nunique().sort_values()"
   ]
  },
  {
   "cell_type": "code",
   "execution_count": 37,
   "id": "f4c196aa",
   "metadata": {},
   "outputs": [
    {
     "data": {
      "text/plain": [
       "Current Status             5\n",
       "Employee Position         11\n",
       "Total Hours               97\n",
       "BD Hours                 101\n",
       "Leave Hours              133\n",
       "Supervisor name          137\n",
       "Training Hours           226\n",
       "NC Hours                 528\n",
       "Total Available Hours    656\n",
       "Work Hours               690\n",
       "Utilization%             858\n",
       "Employee No              948\n",
       "dtype: int64"
      ]
     },
     "execution_count": 37,
     "metadata": {},
     "output_type": "execute_result"
    }
   ],
   "source": [
    "df_test.nunique().sort_values()"
   ]
  },
  {
   "cell_type": "code",
   "execution_count": 38,
   "id": "4f3f89a5",
   "metadata": {},
   "outputs": [
    {
     "name": "stdout",
     "output_type": "stream",
     "text": [
      "<class 'pandas.core.frame.DataFrame'>\n",
      "RangeIndex: 948 entries, 0 to 947\n",
      "Data columns (total 12 columns):\n",
      " #   Column                 Non-Null Count  Dtype  \n",
      "---  ------                 --------------  -----  \n",
      " 0   Employee No            948 non-null    int64  \n",
      " 1   Employee Position      948 non-null    object \n",
      " 2   Supervisor name        948 non-null    object \n",
      " 3   Current Status         948 non-null    object \n",
      " 4   Total Hours            948 non-null    int64  \n",
      " 5   Total Available Hours  948 non-null    float64\n",
      " 6   Work Hours             948 non-null    float64\n",
      " 7   Leave Hours            948 non-null    int64  \n",
      " 8   Training Hours         948 non-null    float64\n",
      " 9   BD Hours               948 non-null    float64\n",
      " 10  NC Hours               948 non-null    float64\n",
      " 11  Utilization%           948 non-null    object \n",
      "dtypes: float64(5), int64(3), object(4)\n",
      "memory usage: 89.0+ KB\n"
     ]
    }
   ],
   "source": [
    "df_test.info()"
   ]
  },
  {
   "cell_type": "code",
   "execution_count": 39,
   "id": "0ab3d68a",
   "metadata": {},
   "outputs": [
    {
     "data": {
      "text/plain": [
       "0    821\n",
       "1    127\n",
       "Name: Current Status, dtype: int64"
      ]
     },
     "execution_count": 39,
     "metadata": {},
     "output_type": "execute_result"
    }
   ],
   "source": [
    "# current status\n",
    "# Active = 0\n",
    "# Resigned = 1\n",
    "# Secondment = 0\n",
    "#New Joiner = 0\n",
    "#Sabbatical = 0\n",
    "var_update = 'Current Status'\n",
    "df[var_update].value_counts()\n",
    "\n",
    "# Current Status\n",
    "df_test[var_update].replace({\"Active\":0, \"Resigned\":1, \"Secondment\":0, \"Sabbatical\":0, \"New Joiner\" : 0, \n",
    "                             }, inplace = True)\n",
    "\n",
    "df_test[var_update].value_counts()"
   ]
  },
  {
   "cell_type": "code",
   "execution_count": 40,
   "id": "624cfcdb",
   "metadata": {
    "scrolled": true
   },
   "outputs": [
    {
     "data": {
      "text/plain": [
       "7     318\n",
       "8     262\n",
       "6     197\n",
       "5      89\n",
       "4      42\n",
       "3      20\n",
       "2      11\n",
       "12      3\n",
       "13      3\n",
       "11      2\n",
       "1       1\n",
       "Name: Employee Position, dtype: int64"
      ]
     },
     "execution_count": 40,
     "metadata": {},
     "output_type": "execute_result"
    }
   ],
   "source": [
    "#one more - is extra here4\n",
    "var_update = 'Employee Position'\n",
    "df_test[var_update].value_counts() # To check the unique categories of the variable\n",
    "\n",
    "\n",
    "df_test[var_update].replace({\"Level 1\":1, \"Level 2\":2, \"Level 3\":3, \"Level 4\":4,\n",
    "                             \"Level 5\":5, \"Level 6\":6, \"Level 7\":7, \"Level 8\":8,\"Level 10\":10,\n",
    "                             \"Level A1\":11, \"Level A2\":12, \"Level A3\":13, \"-\":14}, inplace = True)\n",
    "df_test[var_update].value_counts()"
   ]
  },
  {
   "cell_type": "code",
   "execution_count": 41,
   "id": "f9ca84aa",
   "metadata": {},
   "outputs": [
    {
     "data": {
      "text/plain": [
       "137"
      ]
     },
     "execution_count": 41,
     "metadata": {},
     "output_type": "execute_result"
    }
   ],
   "source": [
    "len(df_test['Supervisor name'].unique())\n"
   ]
  },
  {
   "cell_type": "markdown",
   "id": "eef4dfa8",
   "metadata": {},
   "source": [
    "hot encoding"
   ]
  },
  {
   "cell_type": "code",
   "execution_count": 42,
   "id": "e8288429",
   "metadata": {},
   "outputs": [],
   "source": [
    "\n",
    "# encoding 'Supervisor name' using count/frequency encoding\n",
    "sv_name1 = df_test['Supervisor name'].value_counts().to_dict()\n",
    "df_test['Supervisor name'] = df_test['Supervisor name'].map(sv_name1)\n"
   ]
  },
  {
   "cell_type": "code",
   "execution_count": 43,
   "id": "212d3dff",
   "metadata": {
    "scrolled": true
   },
   "outputs": [
    {
     "name": "stdout",
     "output_type": "stream",
     "text": [
      "<class 'pandas.core.frame.DataFrame'>\n",
      "RangeIndex: 948 entries, 0 to 947\n",
      "Data columns (total 12 columns):\n",
      " #   Column                 Non-Null Count  Dtype  \n",
      "---  ------                 --------------  -----  \n",
      " 0   Employee No            948 non-null    int64  \n",
      " 1   Employee Position      948 non-null    int64  \n",
      " 2   Supervisor name        948 non-null    int64  \n",
      " 3   Current Status         948 non-null    int64  \n",
      " 4   Total Hours            948 non-null    int64  \n",
      " 5   Total Available Hours  948 non-null    float64\n",
      " 6   Work Hours             948 non-null    float64\n",
      " 7   Leave Hours            948 non-null    int64  \n",
      " 8   Training Hours         948 non-null    float64\n",
      " 9   BD Hours               948 non-null    float64\n",
      " 10  NC Hours               948 non-null    float64\n",
      " 11  Utilization%           948 non-null    object \n",
      "dtypes: float64(5), int64(6), object(1)\n",
      "memory usage: 89.0+ KB\n"
     ]
    }
   ],
   "source": [
    "df_test.info()"
   ]
  },
  {
   "cell_type": "code",
   "execution_count": 44,
   "id": "a74bec12",
   "metadata": {
    "scrolled": true
   },
   "outputs": [
    {
     "data": {
      "text/plain": [
       "8     120\n",
       "7     119\n",
       "6      96\n",
       "12     72\n",
       "14     70\n",
       "11     55\n",
       "9      54\n",
       "10     50\n",
       "5      45\n",
       "18     36\n",
       "3      27\n",
       "4      20\n",
       "2      14\n",
       "1      11\n",
       "Name: Supervisor name, dtype: int64"
      ]
     },
     "execution_count": 44,
     "metadata": {},
     "output_type": "execute_result"
    }
   ],
   "source": [
    "#check unique values\n",
    "var_update = 'Supervisor name'\n",
    "df[var_update].value_counts()\n"
   ]
  },
  {
   "cell_type": "code",
   "execution_count": 45,
   "id": "cd6c1d73",
   "metadata": {},
   "outputs": [],
   "source": [
    "df_test['Utilization%'] = pd.to_numeric(df_test['Utilization%'], errors = 'coerce')"
   ]
  },
  {
   "cell_type": "code",
   "execution_count": 46,
   "id": "963407fa",
   "metadata": {},
   "outputs": [],
   "source": [
    "#### Dummy Variable Creation\n",
    "\n",
    "df_test1=pd.get_dummies(df_test)"
   ]
  },
  {
   "cell_type": "code",
   "execution_count": 47,
   "id": "b637d83f",
   "metadata": {},
   "outputs": [
    {
     "name": "stdout",
     "output_type": "stream",
     "text": [
      "<class 'pandas.core.frame.DataFrame'>\n",
      "RangeIndex: 948 entries, 0 to 947\n",
      "Data columns (total 12 columns):\n",
      " #   Column                 Non-Null Count  Dtype  \n",
      "---  ------                 --------------  -----  \n",
      " 0   Employee No            948 non-null    int64  \n",
      " 1   Employee Position      948 non-null    int64  \n",
      " 2   Supervisor name        948 non-null    int64  \n",
      " 3   Current Status         948 non-null    int64  \n",
      " 4   Total Hours            948 non-null    int64  \n",
      " 5   Total Available Hours  948 non-null    float64\n",
      " 6   Work Hours             948 non-null    float64\n",
      " 7   Leave Hours            948 non-null    int64  \n",
      " 8   Training Hours         948 non-null    float64\n",
      " 9   BD Hours               948 non-null    float64\n",
      " 10  NC Hours               948 non-null    float64\n",
      " 11  Utilization%           943 non-null    float64\n",
      "dtypes: float64(6), int64(6)\n",
      "memory usage: 89.0 KB\n"
     ]
    }
   ],
   "source": [
    "df_test1.info()"
   ]
  },
  {
   "cell_type": "code",
   "execution_count": 48,
   "id": "bb0933c2",
   "metadata": {},
   "outputs": [],
   "source": [
    "depVar = \"Current Status\"\n",
    "testX = df_test1.drop([depVar], axis = 1).copy()\n",
    "testY = df_test1[depVar].copy()\n"
   ]
  },
  {
   "cell_type": "code",
   "execution_count": 49,
   "id": "29fed4d1",
   "metadata": {},
   "outputs": [
    {
     "data": {
      "text/html": [
       "<div>\n",
       "<style scoped>\n",
       "    .dataframe tbody tr th:only-of-type {\n",
       "        vertical-align: middle;\n",
       "    }\n",
       "\n",
       "    .dataframe tbody tr th {\n",
       "        vertical-align: top;\n",
       "    }\n",
       "\n",
       "    .dataframe thead th {\n",
       "        text-align: right;\n",
       "    }\n",
       "</style>\n",
       "<table border=\"1\" class=\"dataframe\">\n",
       "  <thead>\n",
       "    <tr style=\"text-align: right;\">\n",
       "      <th></th>\n",
       "      <th>Employee No</th>\n",
       "      <th>Employee Position</th>\n",
       "      <th>Supervisor name</th>\n",
       "      <th>Total Hours</th>\n",
       "      <th>Total Available Hours</th>\n",
       "      <th>Work Hours</th>\n",
       "      <th>Leave Hours</th>\n",
       "      <th>Training Hours</th>\n",
       "      <th>BD Hours</th>\n",
       "      <th>NC Hours</th>\n",
       "      <th>Utilization%</th>\n",
       "    </tr>\n",
       "  </thead>\n",
       "  <tbody>\n",
       "    <tr>\n",
       "      <th>0</th>\n",
       "      <td>1</td>\n",
       "      <td>1</td>\n",
       "      <td>8</td>\n",
       "      <td>2080</td>\n",
       "      <td>1864.5</td>\n",
       "      <td>448.0</td>\n",
       "      <td>188</td>\n",
       "      <td>27.5</td>\n",
       "      <td>1431.5</td>\n",
       "      <td>18.0</td>\n",
       "      <td>0.240279</td>\n",
       "    </tr>\n",
       "    <tr>\n",
       "      <th>1</th>\n",
       "      <td>2</td>\n",
       "      <td>2</td>\n",
       "      <td>8</td>\n",
       "      <td>2080</td>\n",
       "      <td>1868.0</td>\n",
       "      <td>722.0</td>\n",
       "      <td>208</td>\n",
       "      <td>4.0</td>\n",
       "      <td>600.5</td>\n",
       "      <td>596.5</td>\n",
       "      <td>0.386510</td>\n",
       "    </tr>\n",
       "    <tr>\n",
       "      <th>2</th>\n",
       "      <td>3</td>\n",
       "      <td>2</td>\n",
       "      <td>8</td>\n",
       "      <td>2080</td>\n",
       "      <td>1720.0</td>\n",
       "      <td>1173.0</td>\n",
       "      <td>338</td>\n",
       "      <td>22.0</td>\n",
       "      <td>463.5</td>\n",
       "      <td>357.5</td>\n",
       "      <td>0.681977</td>\n",
       "    </tr>\n",
       "    <tr>\n",
       "      <th>3</th>\n",
       "      <td>4</td>\n",
       "      <td>2</td>\n",
       "      <td>8</td>\n",
       "      <td>1840</td>\n",
       "      <td>1640.5</td>\n",
       "      <td>273.0</td>\n",
       "      <td>196</td>\n",
       "      <td>3.5</td>\n",
       "      <td>1361.0</td>\n",
       "      <td>24.0</td>\n",
       "      <td>0.166413</td>\n",
       "    </tr>\n",
       "    <tr>\n",
       "      <th>4</th>\n",
       "      <td>6</td>\n",
       "      <td>2</td>\n",
       "      <td>8</td>\n",
       "      <td>2080</td>\n",
       "      <td>1812.0</td>\n",
       "      <td>428.0</td>\n",
       "      <td>260</td>\n",
       "      <td>8.0</td>\n",
       "      <td>1237.0</td>\n",
       "      <td>470.0</td>\n",
       "      <td>0.236203</td>\n",
       "    </tr>\n",
       "    <tr>\n",
       "      <th>...</th>\n",
       "      <td>...</td>\n",
       "      <td>...</td>\n",
       "      <td>...</td>\n",
       "      <td>...</td>\n",
       "      <td>...</td>\n",
       "      <td>...</td>\n",
       "      <td>...</td>\n",
       "      <td>...</td>\n",
       "      <td>...</td>\n",
       "      <td>...</td>\n",
       "      <td>...</td>\n",
       "    </tr>\n",
       "    <tr>\n",
       "      <th>943</th>\n",
       "      <td>1103</td>\n",
       "      <td>8</td>\n",
       "      <td>6</td>\n",
       "      <td>80</td>\n",
       "      <td>-40.0</td>\n",
       "      <td>0.0</td>\n",
       "      <td>0</td>\n",
       "      <td>120.0</td>\n",
       "      <td>0.0</td>\n",
       "      <td>0.0</td>\n",
       "      <td>0.000000</td>\n",
       "    </tr>\n",
       "    <tr>\n",
       "      <th>944</th>\n",
       "      <td>1111</td>\n",
       "      <td>7</td>\n",
       "      <td>7</td>\n",
       "      <td>40</td>\n",
       "      <td>24.0</td>\n",
       "      <td>0.0</td>\n",
       "      <td>8</td>\n",
       "      <td>8.0</td>\n",
       "      <td>0.0</td>\n",
       "      <td>24.0</td>\n",
       "      <td>0.000000</td>\n",
       "    </tr>\n",
       "    <tr>\n",
       "      <th>945</th>\n",
       "      <td>1104</td>\n",
       "      <td>8</td>\n",
       "      <td>3</td>\n",
       "      <td>40</td>\n",
       "      <td>9.0</td>\n",
       "      <td>0.0</td>\n",
       "      <td>8</td>\n",
       "      <td>23.0</td>\n",
       "      <td>0.0</td>\n",
       "      <td>9.0</td>\n",
       "      <td>0.000000</td>\n",
       "    </tr>\n",
       "    <tr>\n",
       "      <th>946</th>\n",
       "      <td>1105</td>\n",
       "      <td>7</td>\n",
       "      <td>14</td>\n",
       "      <td>40</td>\n",
       "      <td>0.0</td>\n",
       "      <td>0.0</td>\n",
       "      <td>8</td>\n",
       "      <td>32.0</td>\n",
       "      <td>0.0</td>\n",
       "      <td>0.0</td>\n",
       "      <td>NaN</td>\n",
       "    </tr>\n",
       "    <tr>\n",
       "      <th>947</th>\n",
       "      <td>1106</td>\n",
       "      <td>8</td>\n",
       "      <td>9</td>\n",
       "      <td>40</td>\n",
       "      <td>20.0</td>\n",
       "      <td>0.0</td>\n",
       "      <td>8</td>\n",
       "      <td>12.0</td>\n",
       "      <td>0.0</td>\n",
       "      <td>20.0</td>\n",
       "      <td>0.000000</td>\n",
       "    </tr>\n",
       "  </tbody>\n",
       "</table>\n",
       "<p>948 rows × 11 columns</p>\n",
       "</div>"
      ],
      "text/plain": [
       "     Employee No  Employee Position  Supervisor name  Total Hours  \\\n",
       "0              1                  1                8         2080   \n",
       "1              2                  2                8         2080   \n",
       "2              3                  2                8         2080   \n",
       "3              4                  2                8         1840   \n",
       "4              6                  2                8         2080   \n",
       "..           ...                ...              ...          ...   \n",
       "943         1103                  8                6           80   \n",
       "944         1111                  7                7           40   \n",
       "945         1104                  8                3           40   \n",
       "946         1105                  7               14           40   \n",
       "947         1106                  8                9           40   \n",
       "\n",
       "     Total Available Hours  Work Hours  Leave Hours  Training Hours  BD Hours  \\\n",
       "0                   1864.5       448.0          188            27.5    1431.5   \n",
       "1                   1868.0       722.0          208             4.0     600.5   \n",
       "2                   1720.0      1173.0          338            22.0     463.5   \n",
       "3                   1640.5       273.0          196             3.5    1361.0   \n",
       "4                   1812.0       428.0          260             8.0    1237.0   \n",
       "..                     ...         ...          ...             ...       ...   \n",
       "943                  -40.0         0.0            0           120.0       0.0   \n",
       "944                   24.0         0.0            8             8.0       0.0   \n",
       "945                    9.0         0.0            8            23.0       0.0   \n",
       "946                    0.0         0.0            8            32.0       0.0   \n",
       "947                   20.0         0.0            8            12.0       0.0   \n",
       "\n",
       "     NC Hours  Utilization%  \n",
       "0        18.0      0.240279  \n",
       "1       596.5      0.386510  \n",
       "2       357.5      0.681977  \n",
       "3        24.0      0.166413  \n",
       "4       470.0      0.236203  \n",
       "..        ...           ...  \n",
       "943       0.0      0.000000  \n",
       "944      24.0      0.000000  \n",
       "945       9.0      0.000000  \n",
       "946       0.0           NaN  \n",
       "947      20.0      0.000000  \n",
       "\n",
       "[948 rows x 11 columns]"
      ]
     },
     "execution_count": 49,
     "metadata": {},
     "output_type": "execute_result"
    }
   ],
   "source": [
    "testX"
   ]
  },
  {
   "cell_type": "code",
   "execution_count": 50,
   "id": "9da5db96",
   "metadata": {
    "scrolled": true
   },
   "outputs": [
    {
     "data": {
      "text/plain": [
       "Employee No              0\n",
       "Employee Position        0\n",
       "Supervisor name          0\n",
       "Total Hours              0\n",
       "Total Available Hours    0\n",
       "Work Hours               0\n",
       "Leave Hours              0\n",
       "Training Hours           0\n",
       "BD Hours                 0\n",
       "NC Hours                 0\n",
       "Utilization%             5\n",
       "dtype: int64"
      ]
     },
     "execution_count": 50,
     "metadata": {},
     "output_type": "execute_result"
    }
   ],
   "source": [
    "testX.isnull().sum()"
   ]
  },
  {
   "cell_type": "markdown",
   "id": "d7799840",
   "metadata": {},
   "source": [
    "#### replace missing values"
   ]
  },
  {
   "cell_type": "code",
   "execution_count": 51,
   "id": "4bc436f6",
   "metadata": {},
   "outputs": [],
   "source": [
    "temp1 = testX[\"Utilization%\"].median()\n",
    "\n",
    "testX[\"Utilization%\"] = testX[\"Utilization%\"].fillna(temp1)"
   ]
  },
  {
   "cell_type": "code",
   "execution_count": 52,
   "id": "a83a83dd",
   "metadata": {},
   "outputs": [
    {
     "data": {
      "text/plain": [
       "0      0\n",
       "1      0\n",
       "2      0\n",
       "3      1\n",
       "4      0\n",
       "      ..\n",
       "943    0\n",
       "944    0\n",
       "945    0\n",
       "946    0\n",
       "947    0\n",
       "Name: Current Status, Length: 948, dtype: int64"
      ]
     },
     "execution_count": 52,
     "metadata": {},
     "output_type": "execute_result"
    }
   ],
   "source": [
    "testY"
   ]
  },
  {
   "cell_type": "markdown",
   "id": "747d53fb",
   "metadata": {},
   "source": [
    "#### Prediction"
   ]
  },
  {
   "cell_type": "code",
   "execution_count": 53,
   "id": "626601d2",
   "metadata": {},
   "outputs": [],
   "source": [
    "test_pred = M_rf1.predict(testX)"
   ]
  },
  {
   "cell_type": "markdown",
   "id": "4d65c784",
   "metadata": {},
   "source": [
    "#### Confusion Matrix"
   ]
  },
  {
   "cell_type": "code",
   "execution_count": 54,
   "id": "789c677c",
   "metadata": {},
   "outputs": [],
   "source": [
    "Confu_mat = pd.crosstab(testY, test_pred)"
   ]
  },
  {
   "cell_type": "code",
   "execution_count": 55,
   "id": "99b10254",
   "metadata": {
    "scrolled": true
   },
   "outputs": [
    {
     "data": {
      "text/html": [
       "<div>\n",
       "<style scoped>\n",
       "    .dataframe tbody tr th:only-of-type {\n",
       "        vertical-align: middle;\n",
       "    }\n",
       "\n",
       "    .dataframe tbody tr th {\n",
       "        vertical-align: top;\n",
       "    }\n",
       "\n",
       "    .dataframe thead th {\n",
       "        text-align: right;\n",
       "    }\n",
       "</style>\n",
       "<table border=\"1\" class=\"dataframe\">\n",
       "  <thead>\n",
       "    <tr style=\"text-align: right;\">\n",
       "      <th>col_0</th>\n",
       "      <th>0</th>\n",
       "      <th>1</th>\n",
       "    </tr>\n",
       "    <tr>\n",
       "      <th>Current Status</th>\n",
       "      <th></th>\n",
       "      <th></th>\n",
       "    </tr>\n",
       "  </thead>\n",
       "  <tbody>\n",
       "    <tr>\n",
       "      <th>0</th>\n",
       "      <td>815</td>\n",
       "      <td>6</td>\n",
       "    </tr>\n",
       "    <tr>\n",
       "      <th>1</th>\n",
       "      <td>48</td>\n",
       "      <td>79</td>\n",
       "    </tr>\n",
       "  </tbody>\n",
       "</table>\n",
       "</div>"
      ],
      "text/plain": [
       "col_0             0   1\n",
       "Current Status         \n",
       "0               815   6\n",
       "1                48  79"
      ]
     },
     "execution_count": 55,
     "metadata": {},
     "output_type": "execute_result"
    }
   ],
   "source": [
    "Confu_mat"
   ]
  },
  {
   "cell_type": "code",
   "execution_count": 56,
   "id": "7941fc69",
   "metadata": {},
   "outputs": [
    {
     "name": "stdout",
     "output_type": "stream",
     "text": [
      "              precision    recall  f1-score   support\n",
      "\n",
      "           0       0.94      0.99      0.97       821\n",
      "           1       0.93      0.62      0.75       127\n",
      "\n",
      "    accuracy                           0.94       948\n",
      "   macro avg       0.94      0.81      0.86       948\n",
      "weighted avg       0.94      0.94      0.94       948\n",
      "\n"
     ]
    }
   ],
   "source": [
    "from sklearn.metrics import classification_report\n",
    "\n",
    "print(classification_report(testY, test_pred))"
   ]
  },
  {
   "cell_type": "code",
   "execution_count": 57,
   "id": "3cdfd46a",
   "metadata": {},
   "outputs": [
    {
     "data": {
      "text/plain": [
       "array([0.23647148, 0.01965666, 0.02776613, 0.20591723, 0.14664798,\n",
       "       0.05704508, 0.08288348, 0.14219771, 0.00949966, 0.03846242,\n",
       "       0.03345217])"
      ]
     },
     "execution_count": 57,
     "metadata": {},
     "output_type": "execute_result"
    }
   ],
   "source": [
    "M_rf1.feature_importances_ "
   ]
  },
  {
   "cell_type": "markdown",
   "id": "4fd5d36d",
   "metadata": {},
   "source": [
    "#### RF Model with Tuning Parameters"
   ]
  },
  {
   "cell_type": "code",
   "execution_count": 58,
   "id": "3cb53d00",
   "metadata": {},
   "outputs": [],
   "source": [
    "M_rf2 = RandomForestClassifier( random_state = 1994, n_estimators = 25,\n",
    "                                max_features = 3, min_samples_leaf = 500)"
   ]
  },
  {
   "cell_type": "code",
   "execution_count": 59,
   "id": "a04adc10",
   "metadata": {},
   "outputs": [],
   "source": [
    "M_rf2 = M_rf2.fit(trainX, trainY)"
   ]
  },
  {
   "cell_type": "code",
   "execution_count": 60,
   "id": "4cf8ef42",
   "metadata": {},
   "outputs": [],
   "source": [
    "Test_Pred2 = M_rf2.predict(testX)"
   ]
  },
  {
   "cell_type": "markdown",
   "id": "f67a715c",
   "metadata": {},
   "source": [
    "#### Confusion Matrix"
   ]
  },
  {
   "cell_type": "code",
   "execution_count": 61,
   "id": "ccf1b56f",
   "metadata": {
    "scrolled": true
   },
   "outputs": [
    {
     "data": {
      "text/html": [
       "<div>\n",
       "<style scoped>\n",
       "    .dataframe tbody tr th:only-of-type {\n",
       "        vertical-align: middle;\n",
       "    }\n",
       "\n",
       "    .dataframe tbody tr th {\n",
       "        vertical-align: top;\n",
       "    }\n",
       "\n",
       "    .dataframe thead th {\n",
       "        text-align: right;\n",
       "    }\n",
       "</style>\n",
       "<table border=\"1\" class=\"dataframe\">\n",
       "  <thead>\n",
       "    <tr style=\"text-align: right;\">\n",
       "      <th>col_0</th>\n",
       "      <th>0</th>\n",
       "    </tr>\n",
       "    <tr>\n",
       "      <th>Current Status</th>\n",
       "      <th></th>\n",
       "    </tr>\n",
       "  </thead>\n",
       "  <tbody>\n",
       "    <tr>\n",
       "      <th>0</th>\n",
       "      <td>821</td>\n",
       "    </tr>\n",
       "    <tr>\n",
       "      <th>1</th>\n",
       "      <td>127</td>\n",
       "    </tr>\n",
       "  </tbody>\n",
       "</table>\n",
       "</div>"
      ],
      "text/plain": [
       "col_0             0\n",
       "Current Status     \n",
       "0               821\n",
       "1               127"
      ]
     },
     "execution_count": 61,
     "metadata": {},
     "output_type": "execute_result"
    }
   ],
   "source": [
    "Confu_mat2 = pd.crosstab(testY, Test_Pred2); Confu_mat2"
   ]
  },
  {
   "cell_type": "markdown",
   "id": "5374ba43",
   "metadata": {},
   "source": [
    "roc_auc_score"
   ]
  },
  {
   "cell_type": "code",
   "execution_count": 67,
   "id": "1d1af1f6",
   "metadata": {},
   "outputs": [
    {
     "name": "stdout",
     "output_type": "stream",
     "text": [
      "[[815   6]\n",
      " [ 49  78]]\n",
      "{'tn': 815, 'fp': 6, 'fn': 49, 'tp': 78}\n",
      "              precision    recall  f1-score   support\n",
      "\n",
      "           0       0.94      0.99      0.97       821\n",
      "           1       0.93      0.61      0.74       127\n",
      "\n",
      "    accuracy                           0.94       948\n",
      "   macro avg       0.94      0.80      0.85       948\n",
      "weighted avg       0.94      0.94      0.94       948\n",
      "\n"
     ]
    }
   ],
   "source": [
    "from sklearn.metrics import confusion_matrix,classification_report,roc_auc_score,roc_curve\n",
    "\n",
    "clf_rf = RandomForestClassifier(max_depth=12,random_state=0)\n",
    "clf_rf.fit(trainX,trainY)\n",
    "\n",
    "hr_predict_rf = clf_rf.predict(testX)\n",
    "hr_predict_rf_df=pd.DataFrame({'Test Data':testY,'Prediction':hr_predict_rf}) #.reset_index()\n",
    "# hr_predict_rf_df.rename(columns={'index':'Employee No'},inplace=True)\n",
    "\n",
    "cm_rf=confusion_matrix(testY, hr_predict_rf)\n",
    "print(cm_rf)\n",
    "\n",
    "print({'tn':cm_rf[0,0],'fp':cm_rf[0,1],'fn':cm_rf[1,0],'tp':cm_rf[1,1]})\n",
    "\n",
    "#hr_predict_rf_df.loc[~(hr_predict_rf_df['Test Data']==hr_predict_rf_df['Prediction'])]\n",
    "\n",
    "print(classification_report(testY,hr_predict_rf))\n"
   ]
  },
  {
   "cell_type": "code",
   "execution_count": 68,
   "id": "cb6c4a50",
   "metadata": {},
   "outputs": [
    {
     "name": "stdout",
     "output_type": "stream",
     "text": [
      "Random Forests ROC AUC = 0.889\n"
     ]
    },
    {
     "data": {
      "text/plain": [
       "Text(0, 0.5, 'True Positive Rate')"
      ]
     },
     "execution_count": 68,
     "metadata": {},
     "output_type": "execute_result"
    },
    {
     "data": {
      "image/png": "[encoded data removed]",
      "text/plain": [
       "<Figure size 432x288 with 1 Axes>"
      ]
     },
     "metadata": {
      "needs_background": "light"
     },
     "output_type": "display_data"
    }
   ],
   "source": [
    "# ROC-AUC curve analysis\n",
    "clf_rf_probs = clf_rf.predict_proba(testX)[:,1]\n",
    "\n",
    "#hr_predict_df['Test'].replace({'Active':0,'Resigned':1},inplace=True)\n",
    "#hr_predict_df['Prediction'].replace({'Active':0,'Resigned':1},inplace=True)\n",
    "\n",
    "print('Random Forests ROC AUC = %.3f' % roc_auc_score(hr_predict_rf_df['Test Data'], clf_rf_probs))\n",
    "\n",
    "fpr, tpr, thresholds = roc_curve(hr_predict_rf_df['Test Data'], clf_rf_probs)\n",
    "\n",
    "plt.plot(fpr,tpr,marker='.',label='Random Forests')\n",
    "plt.xlabel('False Positive Rate')\n",
    "plt.ylabel('True Positive Rate')\n"
   ]
  },
  {
   "cell_type": "code",
   "execution_count": null,
   "id": "4ee05e57",
   "metadata": {},
   "outputs": [],
   "source": []
  }
 ],
 "metadata": {
  "kernelspec": {
   "display_name": "Python 3",
   "language": "python",
   "name": "python3"
  },
  "language_info": {
   "codemirror_mode": {
    "name": "ipython",
    "version": 3
   },
   "file_extension": ".py",
   "mimetype": "text/x-python",
   "name": "python",
   "nbconvert_exporter": "python",
   "pygments_lexer": "ipython3",
   "version": "3.8.8"
  }
 },
 "nbformat": 4,
 "nbformat_minor": 5
}
